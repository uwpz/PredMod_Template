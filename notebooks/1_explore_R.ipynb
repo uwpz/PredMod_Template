{
 "cells": [
  {
   "cell_type": "markdown",
   "metadata": {},
   "source": [
    "# Introduction\n",
    "This notebook gives an example how we do **EDA (explorative data analysis)**.\n",
    "\n",
    "It is the first one in a series of 5 notebooks. The next 2 notebooks load the results of this notebook and implement model comparison and model interpretation respectively.  The other 2 notebooks show how to implement model training in production as well as scoring for new data which closes the loop of all codings you need to implement for a predictive modeling project.\n",
    "\n",
    "For a better understanding you should have **basic knowledge of predictive modelling**, i.e. know what a logistic regression is or cross-validation, for instance.\n",
    "\n",
    "As example data source the well known **titanic data set** is chosen (https://www.kaggle.com/c/titanic/data). It is therefore a classification problem with the binary target *survived/not survived*. Even though you cannot compare the titanic case with a real life setting, the following steps pretty much reflect (on a small scale!) how we conduct data analysis in all our predictive modeling projects."
   ]
  },
  {
   "cell_type": "markdown",
   "metadata": {},
   "source": [
    "<br><br>\n",
    "# 0 Packages and settings\n",
    "\n",
    "We start by loading packages and do some basic settings (data and output locations, parameters for plotting, ...). \n",
    "\n",
    "Furthermore the ***0_init.R*** program defines many functions, mainly for plotting, which are frequently used in this notebook. The detailed implementation of these functions is not important for understanding the EDA approach presented here.\n"
   ]
  },
  {
   "cell_type": "code",
   "execution_count": 112,
   "metadata": {},
   "outputs": [],
   "source": [
    "setwd(\"C:/My/Projekte/PredMod_Template/\") \n",
    "source(\"./code/0_init.R\")"
   ]
  },
  {
   "cell_type": "markdown",
   "metadata": {},
   "source": [
    "<br><br>\n",
    "# 1 ETL\n",
    "We need to do some ETL (extract, transform, load) first. \n",
    "<br>\n",
    "## 1.1 Read data and conduct quick check"
   ]
  },
  {
   "cell_type": "code",
   "execution_count": 113,
   "metadata": {},
   "outputs": [
    {
     "name": "stderr",
     "output_type": "stream",
     "text": [
      "Parsed with column specification:\n",
      "cols(\n",
      "  pclass = col_character(),\n",
      "  survived = col_integer(),\n",
      "  name = col_character(),\n",
      "  sex = col_character(),\n",
      "  age = col_double(),\n",
      "  sibsp = col_integer(),\n",
      "  parch = col_integer(),\n",
      "  ticket = col_character(),\n",
      "  fare = col_double(),\n",
      "  cabin = col_character(),\n",
      "  embarked = col_character(),\n",
      "  boat = col_character(),\n",
      "  body = col_integer(),\n",
      "  home.dest = col_character()\n",
      ")\n"
     ]
    }
   ],
   "source": [
    "df.orig = read_csv(paste0(dataloc,\"titanic.csv\"), col_names = TRUE) #read data"
   ]
  },
  {
   "cell_type": "markdown",
   "metadata": {
    "collapsed": true
   },
   "source": [
    "Let's do a quick check of the data:"
   ]
  },
  {
   "cell_type": "code",
   "execution_count": 114,
   "metadata": {},
   "outputs": [
    {
     "data": {
      "text/plain": [
       " pclass       survived                                  name          sex           age              sibsp            parch      \n",
       " 1st:323   Min.   :0.000   Connolly, Miss. Kate           :   2   female:466   Min.   : 0.1667   Min.   :0.0000   Min.   :0.000  \n",
       " 2nd:277   1st Qu.:0.000   Kelly, Mr. James               :   2   male  :843   1st Qu.:21.0000   1st Qu.:0.0000   1st Qu.:0.000  \n",
       " 3rd:709   Median :0.000   Abbing, Mr. Anthony            :   1                Median :28.0000   Median :0.0000   Median :0.000  \n",
       "           Mean   :0.382   Abbott, Master. Eugene Joseph  :   1                Mean   :29.8811   Mean   :0.4989   Mean   :0.385  \n",
       "           3rd Qu.:1.000   Abbott, Mr. Rossmore Edward    :   1                3rd Qu.:39.0000   3rd Qu.:1.0000   3rd Qu.:0.000  \n",
       "           Max.   :1.000   Abbott, Mrs. Stanton (Rosa Hunt:   1                Max.   :80.0000   Max.   :8.0000   Max.   :9.000  \n",
       "                           (Other)                        :1301                NA's   :263                                       \n",
       "      ticket          fare                     cabin             embarked        boat          body                      home.dest  \n",
       " CA. 2343:  11   Min.   :  0.000   C23 C25 C27    :   6   Cherbourg  :270   13     : 39   Min.   :  1.0   New York, NY        : 64  \n",
       " 1601    :   8   1st Qu.:  7.896   B57 B59 B63 B66:   5   Queenstown :123   C      : 38   1st Qu.: 72.0   London              : 14  \n",
       " CA 2144 :   8   Median : 14.454   G6             :   5   Southampton:914   15     : 37   Median :155.0   Montreal, PQ        : 10  \n",
       " 3101295 :   7   Mean   : 33.295   B96 B98        :   4   NA's       :  2   14     : 33   Mean   :160.8   Cornwall / Akron, OH:  9  \n",
       " 347077  :   7   3rd Qu.: 31.275   C22 C26        :   4                     4      : 31   3rd Qu.:256.0   Paris, France       :  9  \n",
       " 347082  :   7   Max.   :512.329   (Other)        : 271                     (Other):308   Max.   :328.0   (Other)             :639  \n",
       " (Other) :1261   NA's   :1         NA's           :1014                     NA's   :823   NA's   :1188    NA's                :564  "
      ]
     },
     "metadata": {},
     "output_type": "display_data"
    }
   ],
   "source": [
    "options(width = 140) #get more space for printing\n",
    "df.orig %>% mutate_if(is.character, as.factor) %>% summary(.) #character to factors for summary"
   ]
  },
  {
   "cell_type": "markdown",
   "metadata": {},
   "source": [
    "+ We see that 38.2% of all passengers survived.\n",
    "+ Some columns have missings\n",
    "+ *name*, *ticket* and *cabin* seem to be useless for analysis as this information is too detailed\n",
    "+ *cabin* seems to be a list of all cabins associated with a ticket (valid for several persons)  \n",
    "\n",
    "In real data situations much more of these findings and data issues will pop up and need to be precisely reviewed usually together with business and data people.  \n",
    "**It is absolut important to fully understand the input data for a prediction problem!**"
   ]
  },
  {
   "cell_type": "markdown",
   "metadata": {},
   "source": [
    "Before transforming the data we create a copy of the original data. In case of bigger datasets which take much longer to be read this helps for faster implementation in case some erroneous tansformation will be done. Actually for the very small titanic data this is not really needed."
   ]
  },
  {
   "cell_type": "code",
   "execution_count": 115,
   "metadata": {
    "collapsed": true
   },
   "outputs": [],
   "source": [
    "df = df.orig #\"save\" original data"
   ]
  },
  {
   "cell_type": "markdown",
   "metadata": {},
   "source": [
    "<br>\n",
    "## 1.2 Define target and train/test fold  \n",
    "First we define the target and name it \"target\". This helps in reusing all the code for other cases."
   ]
  },
  {
   "cell_type": "code",
   "execution_count": 116,
   "metadata": {},
   "outputs": [
    {
     "data": {
      "text/plain": [
       " target    target_num   \n",
       " N:809   Min.   :0.000  \n",
       " Y:500   1st Qu.:0.000  \n",
       "         Median :0.000  \n",
       "         Mean   :0.382  \n",
       "         3rd Qu.:1.000  \n",
       "         Max.   :1.000  "
      ]
     },
     "metadata": {},
     "output_type": "display_data"
    }
   ],
   "source": [
    "# Target\n",
    "df = df %>% mutate(target = factor(ifelse(survived == 0, \"N\", \"Y\"), levels = c(\"N\",\"Y\")), #factor needed by caret package\n",
    "                   target_num = ifelse(target == \"N\", 0 ,1)) #numeric version for some special analysis\n",
    "summary(df[c(\"target\",\"target_num\")])"
   ]
  },
  {
   "cell_type": "markdown",
   "metadata": {},
   "source": [
    "Now we directly specify the train/test fold.  \n",
    "\n",
    "Here we use a **random 70/30 split**, but just because we do not have a time related variable. It is absolutely important to **do the split time based in real life situations!** First of all you usually want to predict something in the future (e.g. \"will a customer churn\"), so you best simulate this by a time based split. And as variable distributions as well as relations to the target can change over time, a pure random split usually would result in an overly positive predictive performance which you then will not see in your first back testing in production.  \n",
    "\n",
    "Last but not least, using time based features like calendar-week, day-of-month, etc. might result in some overfitting which you cannot identify by a random split."
   ]
  },
  {
   "cell_type": "code",
   "execution_count": 117,
   "metadata": {},
   "outputs": [
    {
     "data": {
      "text/html": [
       "<dl class=dl-horizontal>\n",
       "\t<dt>train</dt>\n",
       "\t\t<dd>917</dd>\n",
       "\t<dt>test</dt>\n",
       "\t\t<dd>392</dd>\n",
       "</dl>\n"
      ],
      "text/latex": [
       "\\begin{description*}\n",
       "\\item[train] 917\n",
       "\\item[test] 392\n",
       "\\end{description*}\n"
      ],
      "text/markdown": [
       "train\n",
       ":   917test\n",
       ":   392\n",
       "\n"
      ],
      "text/plain": [
       "train  test \n",
       "  917   392 "
      ]
     },
     "metadata": {},
     "output_type": "display_data"
    }
   ],
   "source": [
    "# Train/Test fold\n",
    "df$fold = factor(\"train\", levels = c(\"train\", \"test\"))\n",
    "set.seed(123)\n",
    "df[sample(1:nrow(df), floor(0.3*nrow(df))),\"fold\"] = \"test\" #random 70/30 split\n",
    "summary(df$fold)"
   ]
  },
  {
   "cell_type": "markdown",
   "metadata": {},
   "source": [
    "<br>\n",
    "## 1.3 Feature engineering\n",
    "Now one of the most important steps in predictive modeling has to be done: **Feature engineering**, i.e. deriving new information.\n",
    "\n",
    "Even the most ambitious machine learning algorithms profit from feature engineering as it helps the algorithm to **\"find the signal\"**. In case of infinite data, an algorithm like deep neural nets is capable of finding all realations the features have with the target. But you will never have inifite data ... even in times of *big data*!\n",
    "\n",
    "For the titanic data there is not much to do here, but in real life situations it is not unusual that you create **as many new features as original input data columns**. In such cases it is often advantagous that most of the feature engineering is done on database side where the data originates."
   ]
  },
  {
   "cell_type": "code",
   "execution_count": 118,
   "metadata": {},
   "outputs": [
    {
     "data": {
      "text/plain": [
       "      deck        familysize        fare_pp      \n",
       " C      :  94   Min.   : 1.000   Min.   :  0.00  \n",
       " B      :  65   1st Qu.: 1.000   1st Qu.:  7.55  \n",
       " D      :  46   Median : 1.000   Median :  8.05  \n",
       " E      :  41   Mean   : 1.884   Mean   : 14.76  \n",
       " A      :  22   3rd Qu.: 2.000   3rd Qu.: 15.01  \n",
       " (Other):  27   Max.   :11.000   Max.   :128.08  \n",
       " NA's   :1014                    NA's   :1       "
      ]
     },
     "metadata": {},
     "output_type": "display_data"
    }
   ],
   "source": [
    "df$deck = as.factor(str_sub(df$cabin, 1, 1)) #deck as first character of cabin\n",
    "df$familysize = df$sibsp + df$parch + 1 #add number of siblings and spouses to the number of parents and children\n",
    "df %<>% group_by(ticket) %>% mutate(fare_pp = fare/n()) %>% ungroup() #fare per person (one ticket might comprise several persons)\n",
    "summary(df[c(\"deck\",\"familysize\",\"fare_pp\")]) \n"
   ]
  },
  {
   "cell_type": "markdown",
   "metadata": {},
   "source": [
    "<br><br>\n",
    "# 2 Metric features: Explore and adapt\n",
    "We first analyze the metric features. Therfore we initially define the names of the metric covariates in a simple character vector.  \n",
    "\n",
    "In real life you will have much more metric features (and nominal as well), which might be created in parallel to your data analysis implementation but on database side by a data engineer. Then it makes much more sense to **administer the definition of the features together with some metadata** (implementation status, e.g. \"under construction\" or \"ready\", typical values, comments regarding derivation, etc.) in an external tool. For a pragmatic approach an execel sheet nicely fits the requirement and can be automatically read by your program. In such cases you should directly check the consistency of this ***datamodel.xls*** with the current data you load. "
   ]
  },
  {
   "cell_type": "code",
   "execution_count": 119,
   "metadata": {},
   "outputs": [
    {
     "data": {
      "text/html": [],
      "text/latex": [],
      "text/markdown": [],
      "text/plain": [
       "character(0)"
      ]
     },
     "metadata": {},
     "output_type": "display_data"
    },
    {
     "data": {
      "text/plain": [
       "      age               fare            fare_pp      \n",
       " Min.   : 0.1667   Min.   :  0.000   Min.   :  0.00  \n",
       " 1st Qu.:21.0000   1st Qu.:  7.896   1st Qu.:  7.55  \n",
       " Median :28.0000   Median : 14.454   Median :  8.05  \n",
       " Mean   :29.8811   Mean   : 33.295   Mean   : 14.76  \n",
       " 3rd Qu.:39.0000   3rd Qu.: 31.275   3rd Qu.: 15.01  \n",
       " Max.   :80.0000   Max.   :512.329   Max.   :128.08  \n",
       " NA's   :263       NA's   :1         NA's   :1       "
      ]
     },
     "metadata": {},
     "output_type": "display_data"
    }
   ],
   "source": [
    "# Define metric covariates\n",
    "metr = c(\"age\",\"fare\",\"fare_pp\")\n",
    "setdiff(metr, colnames(df)) #all variables in data?\n",
    "summary(df[metr]) "
   ]
  },
  {
   "cell_type": "markdown",
   "metadata": {},
   "source": [
    "<br>\n",
    "## 2.1 Binning\n",
    "\n",
    "We now create a **\"binned\" copy of every metric feature**, i.e. we group the values into bins determined by **10 quantiles** of the metric feature.  \n",
    "This binned copy is used below for some plots. \n",
    "But more importantly, we later use these newly created nominal variables as features instead of the original variables for an elastic-net algorithm.  \n",
    "<br>\n",
    "Even though the binning throws away some information it has several **advantages in conjunction with a \"linear model\"** like the elastic-net (Hint: for a tree-based model this transformation has no advantage, see also tree-related discussion below):  \n",
    "+ Ability to approximate **nonlinear effects** with a linear model (since each bin can get its own effect)\n",
    "+ Elegant handling of **missing values** as these can be grouped into a seperate member named \"(Missing)\" for instance\n",
    "+ No worries about **outliers in feature space** as these are nicely grouped with non-outliers in the edge bins\n",
    "+ Also **skewness** (see below) is not an issue any more due to the quantile based binning"
   ]
  },
  {
   "cell_type": "code",
   "execution_count": 120,
   "metadata": {},
   "outputs": [
    {
     "data": {
      "text/plain": [
       "     age_BINNED_       fare_BINNED_    fare_pp_BINNED_\n",
       " [0.167,14]:107   [0,7.57]   :131   [0,6.24]   :134   \n",
       " (14,19]   :118   (7.57,7.85]:144   (6.24,7.23]:143   \n",
       " (19,22]   :108   (7.85,8.05]:146   (7.23,7.75]:146   \n",
       " (22,25]   :110   (8.05,10.5]:108   (7.75,7.9] :131   \n",
       " (25,28]   : 93   (10.5,14.5]:128   (7.9,8.05] :109   \n",
       " (28,31]   : 98   (14.5,21.7]:130   (8.05,10.5]:161   \n",
       " (31,36]   :121   (21.7,27]  :128   (10.5,13]  :136   \n",
       " (36,42]   : 96   (27,41.6]  :134   (13,26.3]  : 89   \n",
       " (42,50]   :100   (41.6,78.1]:128   (26.3,31]  :128   \n",
       " (50,80]   : 95   (78.1,512] :131   (31,128]   :131   \n",
       " (Missing) :263   (Missing)  :  1   (Missing)  :  1   "
      ]
     },
     "metadata": {},
     "output_type": "display_data"
    }
   ],
   "source": [
    "# Create nominal variables for all metric variables  \n",
    "metr_binned = paste0(metr,\"_BINNED_\")\n",
    "df[metr_binned] = map(df[metr], ~ {\n",
    "  # Hint: Adapt sequence increment in case you have lots of data \n",
    "  cut(., unique(quantile(., seq(0, 1, 0.1), na.rm = TRUE)), include.lowest = TRUE)  #cut by quantiles\n",
    "})\n",
    "\n",
    "# Convert missings to own level \"(Missing)\"\n",
    "df[metr_binned] = map(df[metr_binned], ~ fct_explicit_na(., na_level = \"(Missing)\")) \n",
    "summary(df[metr_binned],11)"
   ]
  },
  {
   "cell_type": "markdown",
   "metadata": {},
   "source": [
    "<br>\n",
    "## 2.2 Handling of missings, outliers, skewness\n",
    "When we want to use the original metric variables with **algorithms like \"standard\" GLM (generalized linear models, including logistic regression), SVM (support vector machines) or deep neural nets**, we now need to **care about missings, outliers and skewness** occuring in the features. \n",
    "\n",
    "All the following coding steps help these **non-tree-based algorithms to find the signal**. Why do we state \"non-tree-based\" here? Actually **all algorithms based on decision trees**, like random forest or boosted decision trees (e.g. xgboost), do not suffer from these issues: Missings are treated as a special value which can be used in all splits, feature outliers almost do not influence tree splits, feature skewness need not be handled by a montone transformation as trees are invariant to such adaptions.  \n",
    "\n",
    "First of all we remove features with too many missings. **But how much is too many?** In classic statistical analysis you \n",
    "still see that features (or *covariates*) are removed if they contain 50% missings or more. Actually in data science, utilizing machine\n",
    "learning algorithms, this threshold is much higher. It is not unusual to **keep variables with 99% missings**. This threshold is also used in the following and can be seen as a rule of thumb.  \n",
    "For the metric features of the titanic data are far away from this threshold.  \n",
    "\n",
    "**Later we will care about the missings more detailed, i.e. remove them by imputation**. But for now we keep them as is for some additional analysis."
   ]
  },
  {
   "cell_type": "code",
   "execution_count": 121,
   "metadata": {},
   "outputs": [
    {
     "name": "stdout",
     "output_type": "stream",
     "text": [
      "    age    fare fare_pp \n",
      "  0.201   0.001   0.001 \n"
     ]
    },
    {
     "data": {
      "text/html": [],
      "text/latex": [],
      "text/markdown": [],
      "text/plain": [
       "character(0)"
      ]
     },
     "metadata": {},
     "output_type": "display_data"
    }
   ],
   "source": [
    "# Remove covariates with too many missings from metr \n",
    "misspct = map_dbl(df[metr], ~ round(sum(is.na(.)/nrow(df)), 3)) #misssing percentage\n",
    "print(misspct[order(misspct, decreasing = TRUE)]) #view in descending order\n",
    "(remove = names(misspct[misspct > 0.99])) #vars to remove\n",
    "metr = setdiff(metr, remove) #adapt metadata\n",
    "metr_binned = setdiff(metr_binned, paste0(remove,\"_BINNED_\")) #keep \"binned\" version in sync"
   ]
  },
  {
   "cell_type": "markdown",
   "metadata": {},
   "source": [
    "We already create some initial plots to check whether there are **outliers or skewed distributions**. The distributions are stratified by the target. The reason behind this kind of display is explained later."
   ]
  },
  {
   "cell_type": "code",
   "execution_count": 122,
   "metadata": {},
   "outputs": [
    {
     "data": {
      "text/plain": [
       "      age               fare            fare_pp      \n",
       " Min.   : 0.1667   Min.   :  0.000   Min.   :  0.00  \n",
       " 1st Qu.:21.0000   1st Qu.:  7.896   1st Qu.:  7.55  \n",
       " Median :28.0000   Median : 14.454   Median :  8.05  \n",
       " Mean   :29.8811   Mean   : 33.295   Mean   : 14.76  \n",
       " 3rd Qu.:39.0000   3rd Qu.: 31.275   3rd Qu.: 15.01  \n",
       " Max.   :80.0000   Max.   :512.329   Max.   :128.08  \n",
       " NA's   :263       NA's   :1         NA's   :1       "
      ]
     },
     "metadata": {},
     "output_type": "display_data"
    },
    {
     "name": "stdout",
     "output_type": "stream",
     "text": [
      "[1] \"age\"\n",
      "[1] \"fare\"\n",
      "[1] \"fare_pp\"\n"
     ]
    },
    {
     "data": {
      "text/plain": [
       "[[1]]\n",
       "NULL\n"
      ]
     },
     "metadata": {},
     "output_type": "display_data"
    },
    {
     "data": {
      "image/png": "[encoded data removed]"
     },
     "metadata": {},
     "output_type": "display_data"
    }
   ],
   "source": [
    "# Check for outliers and skewness\n",
    "summary(df[metr]) \n",
    "options(warn = -1) #suppress unwanted messages\n",
    "plots = suppressMessages(get_plot_distr_metr(df, metr, color = twocol, missinfo = misspct, ylim = c(0,1))) #distribution plot\n",
    "options(repr.plot.width = 8, repr.plot.height = 4) #adapt this for different resolution\n",
    "marrangeGrob(suppressMessages(plots), ncol = 3, nrow = 1) #arrange plots\n",
    "options(warn = 0) #reset warnings"
   ]
  },
  {
   "cell_type": "markdown",
   "metadata": {},
   "source": [
    "For \"age\" we do not see anything unusual. \n",
    "\n",
    "But for \"fare\" (and therefore also for \"fare_pp\") we can identify at least one clear outlier above 500. Furthermore the distribution for \"fare\" is highly right-skewed.  \n",
    "An easy approach to handle outliers is to **winsorize the data**, i.e. set all values below the .01 quantile to the quantile value and do the same for data above the .99 quantile. Sometimes this already fixes some skewness in extreme cases.  \n",
    "\n",
    "As we only see outliers on the right side, we conduct a one-sided winsorization."
   ]
  },
  {
   "cell_type": "code",
   "execution_count": 123,
   "metadata": {
    "collapsed": true
   },
   "outputs": [],
   "source": [
    "# Winsorize\n",
    "df[metr] = map(df[metr], ~ winsorize(., NULL, 0.99)) #hint: one might want to plot again before deciding for forthcoming log-trafo"
   ]
  },
  {
   "cell_type": "markdown",
   "metadata": {},
   "source": [
    "Skewness: The most common case are **right-skewed** variables as you often face features that are unrestricted to the right but restricted to the left by zero. This kind of skewness can often be fixed a **log-transformation**. A more flexible alternative is the so-called Box-Cox trafo for which the log trafo is a special case. The Box-Cox seeks for normality which is useful but not absoutely needed."
   ]
  },
  {
   "cell_type": "code",
   "execution_count": 124,
   "metadata": {},
   "outputs": [
    {
     "data": {
      "text/plain": [
       "   fare_LOG_    \n",
       " Min.   :0.000  \n",
       " 1st Qu.:2.186  \n",
       " Median :2.738  \n",
       " Mean   :2.977  \n",
       " 3rd Qu.:3.474  \n",
       " Max.   :5.574  \n",
       " NA's   :1      "
      ]
     },
     "metadata": {},
     "output_type": "display_data"
    }
   ],
   "source": [
    "# Log-Transform\n",
    "tolog = c(\"fare\") #variable to transform\n",
    "df[paste0(tolog,\"_LOG_\")] = map(df[tolog], ~ {if(min(., na.rm=TRUE) == 0) log(.+1) else log(.)}) #log(x) or log(x+1) trafo\n",
    "metr = map_chr(metr, ~ ifelse(. %in% tolog, paste0(.,\"_LOG_\"), .)) #adapt metadata (and keep order)\n",
    "names(misspct) = map_chr(names(misspct), ~ ifelse(. %in% tolog, paste0(.,\"_LOG_\"), .)) #keep misspct in sync\n",
    "summary(df[paste0(tolog,\"_LOG_\")])"
   ]
  },
  {
   "cell_type": "markdown",
   "metadata": {},
   "source": [
    "<br>\n",
    "## 2.3 Plot the finalized features\n",
    "We are now ready to get the final distribution plot for the metric features. This plot has several characteristics helping to judge the features:  \n",
    "+ We also print the **univariate variable importance**, which, for a classification problem, is identical with the **in-sample (or \"training\") AUC** (area under the curve) you can achieve if you solely use one feature to predict the target. \n",
    "+ Before calculating it, we **impute the missing values with random non-missing values** from the same variable which assures that the univariate variable importance is not overly optimistic due to a restriction to the non-missing variable values. \n",
    "+ But we add the percentage of missings to better justify the importance of the feature. \n",
    "+ The **stratification by the target** helps to identify the effect on the target.\n",
    "+ The boxplots below the distribution plots supports in **identifying outliers** and in **comparison of the mean** (marked by the cross) and the median (marked by the bar) of the feature in the two target strata.\n",
    "+ We additionally plot the effect of the binned versions of the features which sometimes is advantageous in visualizing the effect on the target (with the **dotted line showing the base ratio of the target**, i.e. 38% survival rate). E.g. if you have a metric variable with lots of data in a small range, this plot pulls apart possible effects. Do not get confused by the unequal percentage of observations for each bin which is printed in brackets behind the bin edges; this can occur in case of too few distinct values of the original variable. \n",
    "+ The binned version plot also helps in **identifying informative missings** by comparing the effect of the \"(Missing)\" bin with the others.\n",
    "\n",
    "\n",
    "Especially the next to last bullet is important. If you already see here an effect which is **\"too good to be true\"**, you might have created some form of ***data leakage***. This isssue always occurs if you have some data relations in your training data that would not occur in a similar way for your future test data and therefore would result in a much lesser predictive performance for the latter. The data leakage can have several reasons: you might have incorporated **\"self-predictors\" or \"information from the future\"** as in more detail below. In such a case you need to fix the leakage, e.g. by removing the self-predictors from your feature vector. \n",
    "\n",
    "We need to emphasize at this point that we never use the analysis of the following plot to remove any metric features due to a lack of predictability for the target. Such an approach for filtering out features by utilizing all data (and therefore also the test data) is called **\"data snooping\"** and should be avoided at all costs as it prevents you from estimating the correct predictive capability of your data. We will let the robust machine learning algorithm decide whether and how to use all features."
   ]
  },
  {
   "cell_type": "code",
   "execution_count": 125,
   "metadata": {},
   "outputs": [
    {
     "name": "stdout",
     "output_type": "stream",
     "text": [
      "fare_LOG_   fare_pp       age \n",
      "     0.67      0.64      0.52 \n",
      "   fare_BINNED_ fare_pp_BINNED_     age_BINNED_ \n",
      "           0.67            0.64            0.56 \n",
      "[1] \"age\"\n",
      "[1] \"fare_LOG_\"\n",
      "[1] \"fare_pp\"\n",
      "[1] \"age_BINNED_\"\n",
      "[1] \"fare_BINNED_\"\n",
      "[1] \"fare_pp_BINNED_\"\n"
     ]
    },
    {
     "data": {
      "text/plain": [
       "[[1]]\n",
       "NULL\n",
       "\n",
       "[[2]]\n",
       "NULL\n"
      ]
     },
     "metadata": {},
     "output_type": "display_data"
    },
    {
     "data": {
      "image/png": "[encoded data removed]"
     },
     "metadata": {},
     "output_type": "display_data"
    },
    {
     "data": {
      "image/png": "[encoded data removed]"
     },
     "metadata": {},
     "output_type": "display_data"
    }
   ],
   "source": [
    "# Univariate variable importance: with random imputation!\n",
    "varimp_metr = (filterVarImp(map_df(df[metr], ~ impute(.)), df$target, nonpara = TRUE) %>% rowMeans() %>% \n",
    "                  .[order(., decreasing = TRUE)] %>% round(2))\n",
    "print(varimp_metr)\n",
    "varimp_metr_binned = (filterVarImp(df[metr_binned], df$target, nonpara = TRUE) %>% rowMeans() %>% \n",
    "                  .[order(., decreasing = TRUE)] %>% round(2))\n",
    "print(varimp_metr_binned)\n",
    "# Plot \n",
    "options(warn = -1) #suppress unwanted messages\n",
    "plots1 = suppressMessages(get_plot_distr_metr(df, metr, color = twocol, \n",
    "                                             missinfo = misspct, varimpinfo = varimp_metr, ylim = NULL)) #distribution plot\n",
    "plots2 = suppressMessages(get_plot_distr_nomi(df, metr_binned, color = twocol, varimpinfo = varimp_metr_binned, inner_barplot = FALSE,\n",
    "                                              min_width = 0.2, ylim = c(0,0.8))) #binned variable plot\n",
    "plots = mapply(list, plots1, plots2) #zip plots\n",
    "#options(jupyter.plot_mimetypes = \"image/svg+xml\")\n",
    "options(jupyter.plot_mimetypes = \"image/png\")\n",
    "options(repr.plot.width = 16, repr.plot.height = 6) #adapt this for different resolution\n",
    "marrangeGrob(plots, ncol = 4, nrow = 1) #arrange plots\n",
    "options(warn = 0) #reset warnings"
   ]
  },
  {
   "cell_type": "markdown",
   "metadata": {},
   "source": [
    "The following findings can be derived from the plots:\n",
    "+ We see that children have a higher probability to survive. \n",
    "+ Apart from that, only the **lower survial rate in case of a missing age** (see the binned age plot) pops up regarding passenger age. Even though this effect is not huge it hints to a possible data leakage, i.e. that age was recorded after the accident with a \"higher probability of response\" due to survival of the passenger. This example for \"information from the future\" nicely corresponds to typical business data situations where special data flags are set after the event of interest and are therefore useless for predicting the future. We emphasize this issue again as it is **one of the biggest problems in real life predictive models!** Actually for the titanic data an alternative explanation can be that 3rd class passengers which have a lower survival rate (see the forthcoming analysis) have not reported their age. If this is the case you can keep the feature.   \n",
    "+ This informative missing is also the reason for a higher variable importance of *age\\_BINNED\\_* compared to *age*, as the former comprises the informative missing as own level, but for the latter it is randomly imputed.\n",
    "+ Furthermore we can identify that ***fare*** is highly predictable for the target (AUC: 0.67) which is due to a nearly linear trend. Keep in mind that this is still a **univariate influence** and might change if we adjust for the other features in the final multivarite model. E.g. the *fare* effect might be ***confounded*** by the passenger class which might be the causal reason behind this effect as first class passengers (which pay a higher fare) are nearer to the deck and due to this reason had a higher chance to survive.  \n",
    "+ Additionally we nicely see how the log trafo also rectifies the low fares showing now a gap between the zero dollar fares and the rest.  \n",
    "  \n",
    "  \n",
    "By this discussion of just the two plots you get an impression what has to be checked in real life situations with dozens of metric variables. "
   ]
  },
  {
   "cell_type": "markdown",
   "metadata": {
    "collapsed": true
   },
   "source": [
    "<br>\n",
    "## 2.4 Correlation analysis"
   ]
  },
  {
   "cell_type": "markdown",
   "metadata": {},
   "source": [
    "Now we investigate the relation between the metric features themselves by a correlation analysis.  \n",
    "\n",
    "When using **classical regression approaches** (without any regularization by penalization) this is would be a very important step as highly correlated covariates would lead to the so-called **multicollinearity** problem. As a consequence the estimates of the model parameters (i.e. the beta coefficients in the model equation) would be highly instable and the predicctive performance of the model would decrease drastically.  \n",
    "\n",
    "In times of robust machine learning algorithms that can handle this issue, we use the correlation analysis mostly to **identify \"duplicates\" of variables**, which can be removed without any loss. It is not unusual that under a high amount of metric features you find several which measure the same thing, e.g. revenue-per-month and revenue-per-year, which would pop up in a correlation matrix plot. In such a case we remove the variable which has more missings.  \n",
    "Therefore we directly plot the missing rate for each variable beside the variable name.  \n",
    "\n",
    "Futhermore we only **plot the correlations above a cutoff value** in order to keep the plot manageable in case of many metric variables. Often we choose .97, but then only consider **correlations above .99 for the \"duplicate\" candidates**. For the small titanic data none of above advices are relevant.\n",
    "\n",
    "We almost always plot the **absolute Spearman correlation**, which is based on the ranks of the variable values and is more robust against outliers than the better known Pearson correlation. Since we took care about outliers by previous steps this might not be needed, but furthermore the Spearman correlation can also better **identify non-linear (but monotone) correlations**. And we take the absolute value as for our purpose it does not make a difference if the correlation is negative or positive.\n",
    "\n",
    "Last but not least this analysis also helps to understand the data in hand."
   ]
  },
  {
   "cell_type": "code",
   "execution_count": 126,
   "metadata": {},
   "outputs": [
    {
     "data": {},
     "metadata": {},
     "output_type": "display_data"
    },
    {
     "data": {
      "image/png": "[encoded data removed]"
     },
     "metadata": {},
     "output_type": "display_data"
    }
   ],
   "source": [
    "# Plot absolute spearman correlation for metric features\n",
    "plot = get_plot_corr(df, input_type = \"metr\", vars = metr, \n",
    "                     missinfo = misspct, cutoff = 0.1) #plot all variables with at least one correlation above 0.1\n",
    "options(repr.plot.width = 4, repr.plot.height = 4) #adapt this for different resolution\n",
    "plot"
   ]
  },
  {
   "cell_type": "code",
   "execution_count": 127,
   "metadata": {
    "collapsed": true
   },
   "outputs": [],
   "source": [
    "# Remove highly/perfectly (>=99%) correlated variables (i.e. the ones with less NA!)\n",
    "remove = c(\"xxx\") #put at xxx the variables to remove\n",
    "metr = setdiff(metr, c(\"xxx\")) #remove\n",
    "metr_binned = setdiff(metr_binned, paste0(c(\"xxx\"),\"_BINNED_\")) #keep \"binned\" version in sync"
   ]
  },
  {
   "cell_type": "markdown",
   "metadata": {},
   "source": [
    "<br>\n",
    "## 2.5 Time or train/test-fold dependency\n",
    "Actually we are ready with the analysis of our metric features. Nearly! One final important step is lacking. \n",
    "\n",
    "We need to check whether the **data distributions are different between the train and test data**. Usually this occurs due to a time dependency (in case of a timely based train/test split) of the features. For typical business data this hints to a change in some process, related to business (opened more stores in some regions, e.g.) or data (flag *xyz* now underlies a different definition). If it occurs, it is bad news as it might degrade your predictive performance on test data and you need to decide how to handle this feature distribution change: restrict to just newer data in training or remove the time-dependant feature or add a \"process-has-changed-here\"-flag? There is no default solution here. You need to decide case-by-case.\n",
    "\n",
    "To check the dependencies we just use our usual metric feature distribution plot, but now take the **fold information as the target**. Then we just plot the features with a variable importance (AUC regarding the new target) above a threshold.\n",
    "\n",
    "If you also have a detailed time variable like date, **a better alternative** is to treat the date as a new metric target and create the same plots as for a regression task (not shown in this notebook).\n",
    "\n",
    "For the titanic data our random split just results in some minor dependencies due to random variability which is below the threshold."
   ]
  },
  {
   "cell_type": "code",
   "execution_count": 128,
   "metadata": {},
   "outputs": [
    {
     "name": "stdout",
     "output_type": "stream",
     "text": [
      "fare_LOG_   fare_pp       age \n",
      "     0.52      0.52      0.51 \n"
     ]
    },
    {
     "data": {
      "text/html": [
       "<ol>\n",
       "</ol>\n"
      ],
      "text/latex": [
       "\\begin{enumerate}\n",
       "\\end{enumerate}\n"
      ],
      "text/markdown": [
       "\n",
       "\n"
      ],
      "text/plain": [
       "list()"
      ]
     },
     "metadata": {},
     "output_type": "display_data"
    }
   ],
   "source": [
    "# Univariate variable importance (again ONLY for non-missing observations!) for time/fold dependency\n",
    "df$fold_test = factor(ifelse(df$fold == \"test\", \"Y\", \"N\")) #new target\n",
    "varimp_metr_fold = filterVarImp(df[metr], df$fold_test, nonpara = TRUE) %>% rowMeans() %>% \n",
    "  .[order(., decreasing = TRUE)] %>% round(2)\n",
    "print(varimp_metr_fold)\n",
    "\n",
    "# Plot: only variables with with highest importance above threshold\n",
    "metr_toprint = names(varimp_metr_fold)[varimp_metr_fold >= 0.55] #restrict to\n",
    "plots = get_plot_distr_metr(df, metr_toprint, color = c(\"blue\",\"red\"), target_name = \"fold_test\", \n",
    "                            missinfo = misspct, varimpinfo = varimp_metr_fold, ylim = ylim)\n",
    "plots"
   ]
  },
  {
   "cell_type": "markdown",
   "metadata": {},
   "source": [
    "<br>\n",
    "## 2.6 Missings \"again\", now impute"
   ]
  },
  {
   "cell_type": "markdown",
   "metadata": {},
   "source": [
    "After we finished all processing of the metric variables we can now **impute missing values**. But before, we derive for each feature comprising any missing values, a separate **missing value indicator** (i.e. a binary flag) which we add to the feature vector (see next section), due to the chance that the missings can be informative (i.e. they have predictive capability with regard to the target).  \n",
    "\n",
    "We choose a **random imputation** here becauese we are still in the explorative modus and do not want the missing indicator effect get mixed with an effect resulting from the median of a feature, wich would happen when we would use the **typical median imputation**. Be aware that for any scoring data you prepare, you never should use random imputation as this creates the chance of nonsense predictions due to imputation of an outlier which has a small but not zero probability to get chosen as imputation value."
   ]
  },
  {
   "cell_type": "code",
   "execution_count": 129,
   "metadata": {},
   "outputs": [
    {
     "data": {
      "text/html": [
       "<ol class=list-inline>\n",
       "\t<li>'age'</li>\n",
       "\t<li>'fare_LOG_'</li>\n",
       "\t<li>'fare_pp'</li>\n",
       "</ol>\n"
      ],
      "text/latex": [
       "\\begin{enumerate*}\n",
       "\\item 'age'\n",
       "\\item 'fare\\_LOG\\_'\n",
       "\\item 'fare\\_pp'\n",
       "\\end{enumerate*}\n"
      ],
      "text/markdown": [
       "1. 'age'\n",
       "2. 'fare_LOG_'\n",
       "3. 'fare_pp'\n",
       "\n",
       "\n"
      ],
      "text/plain": [
       "[1] \"age\"       \"fare_LOG_\" \"fare_pp\"  "
      ]
     },
     "metadata": {},
     "output_type": "display_data"
    },
    {
     "data": {
      "text/plain": [
       "    MISS_age    MISS_fare_LOG_  MISS_fare_pp \n",
       " miss   : 263   miss   :   1   miss   :   1  \n",
       " no_miss:1046   no_miss:1308   no_miss:1308  "
      ]
     },
     "metadata": {},
     "output_type": "display_data"
    },
    {
     "data": {
      "text/plain": [
       "      age            fare_LOG_        fare_pp     \n",
       " Min.   : 0.1667   Min.   :0.000   Min.   : 0.00  \n",
       " 1st Qu.:21.0000   1st Qu.:2.186   1st Qu.: 7.55  \n",
       " Median :28.0000   Median :2.738   Median : 8.05  \n",
       " Mean   :29.8720   Mean   :2.977   Mean   :14.45  \n",
       " 3rd Qu.:39.0000   3rd Qu.:3.474   3rd Qu.:15.03  \n",
       " Max.   :65.0000   Max.   :5.574   Max.   :55.44  "
      ]
     },
     "metadata": {},
     "output_type": "display_data"
    }
   ],
   "source": [
    "# Create mising indicators\n",
    "(miss = metr[map_lgl(df[metr], ~ any(is.na(.)))]) #get all metric features with missings (and print)\n",
    "df[paste0(\"MISS_\",miss)] = map(df[miss], ~ as.factor(ifelse(is.na(.x), \"miss\", \"no_miss\"))) #create indicators\n",
    "summary(df[,paste0(\"MISS_\",miss)]) \n",
    "\n",
    "# Impute missings with randomly sampled value\n",
    "df[miss] = map(df[miss], ~ impute(., type = \"random\"))\n",
    "summary(df[metr]) #check"
   ]
  },
  {
   "cell_type": "markdown",
   "metadata": {},
   "source": [
    "<br><br>   \n",
    " # 3. Nominal features: Explore and adapt"
   ]
  },
  {
   "cell_type": "markdown",
   "metadata": {},
   "source": [
    "In this section we do a similar analysis for the **nominal (categorical) features**. But due to the different scale, the handling of the several issues are approached differently.\n",
    "\n",
    "First of all you need to decide which ones are the nominal features. At least all variables containing any characters must be treated as nominal. But also 0/1-flags are added. Futhermore numerically coded variables where the single value has \"no meaning\", i.e. you cannot do any calculations with them, like for german postal codes. And it is **not unusual to also treat some clear numeric variables as categorical**, e.g. a month (ranging from 1-12) or day-of-week (ranging from 1-7). At least the explorative plots you will see later can visualize data relations better when these kind of variables are treated as nominal. It usually also helps an elastic-net algorithm in order to model the realationship to the target in a nonlinear way.  \n",
    "\n",
    "In case we finally decide for a **tree-based algorithm** we might switch back to the metric scale again because it would save memory (as explained in the following) and nonlinear modeling can then be accomplished also with a clear metric feature. This is already a hint that **data preprocessing in the final productive model can be different from the explorative phase**. We usually address this by the 2 attributes \"explore_type\" and \"model_type\" in our metadata, which can differ for some variables in the way that *explore_type = nominal* might have a different *model_type = metric* (but not vice versa).\n",
    "\n",
    "For now this means that we also add the missing indicators (0/1-flags) to the nominal feature vector and create a quick overview."
   ]
  },
  {
   "cell_type": "code",
   "execution_count": 130,
   "metadata": {},
   "outputs": [
    {
     "data": {
      "text/plain": [
       " pclass        sex      sibsp       parch           deck             embarked        boat                    home.dest      MISS_age   \n",
       " 1st:323   female:466   0:891   0      :1002   C      :  94   Cherbourg  :270   13     : 39   New York, NY        : 64   miss   : 263  \n",
       " 2nd:277   male  :843   1:319   1      : 170   B      :  65   Queenstown :123   C      : 38   London              : 14   no_miss:1046  \n",
       " 3rd:709                2: 42   2      : 113   D      :  46   Southampton:914   15     : 37   Montreal, PQ        : 10                 \n",
       "                        3: 20   3      :   8   E      :  41   NA's       :  2   14     : 33   Cornwall / Akron, OH:  9                 \n",
       "                        4: 22   4      :   6   A      :  22                     4      : 31   Paris, France       :  9                 \n",
       "                        5:  6   5      :   6   (Other):  27                     (Other):308   (Other)             :639                 \n",
       "                        8:  9   (Other):   4   NA's   :1014                     NA's   :823   NA's                :564                 \n",
       " MISS_fare_LOG_  MISS_fare_pp \n",
       " miss   :   1   miss   :   1  \n",
       " no_miss:1308   no_miss:1308  \n",
       "                              \n",
       "                              \n",
       "                              \n",
       "                              \n",
       "                              "
      ]
     },
     "metadata": {},
     "output_type": "display_data"
    }
   ],
   "source": [
    "nomi = c(\"pclass\",\"sex\",\"sibsp\",\"parch\",\"deck\",\"embarked\",\"boat\",\"home.dest\")\n",
    "nomi = union(nomi, paste0(\"MISS_\",miss)) #add missing indicators\n",
    "df[nomi] = map(df[nomi], ~ as.factor(as.character(.))) #map to factor\n",
    "summary(df[nomi])"
   ]
  },
  {
   "cell_type": "markdown",
   "metadata": {},
   "source": [
    "<br>\n",
    "## 3.1 Handling of missings and too-many-members features\n",
    "We can quickly care about the missings as this is an easy task for categorical features: We just convert all missing to a separate factor level which we name \"(Misssing)\".  \n",
    "Before checking again we do some more cosmetics: We reorder the levels of some ordinal variables as we want these levels to be plotted later in the \"correct\" order."
   ]
  },
  {
   "cell_type": "code",
   "execution_count": 131,
   "metadata": {},
   "outputs": [
    {
     "data": {
      "text/plain": [
       " pclass        sex      sibsp       parch             deck             embarked          boat                    home.dest      MISS_age   \n",
       " 1st:323   female:466   0:891   0      :1002   (Missing):1014   Cherbourg  :270   (Missing):823   (Missing)           :564   miss   : 263  \n",
       " 2nd:277   male  :843   1:319   1      : 170   C        :  94   Queenstown :123   13       : 39   New York, NY        : 64   no_miss:1046  \n",
       " 3rd:709                2: 42   2      : 113   B        :  65   Southampton:914   C        : 38   London              : 14                 \n",
       "                        3: 20   3      :   8   D        :  46   (Missing)  :  2   15       : 37   Montreal, PQ        : 10                 \n",
       "                        4: 22   4      :   6   E        :  41                     14       : 33   Cornwall / Akron, OH:  9                 \n",
       "                        5:  6   5      :   6   A        :  22                     4        : 31   Paris, France       :  9                 \n",
       "                        8:  9   (Other):   4   (Other)  :  27                     (Other)  :308   (Other)             :639                 \n",
       " MISS_fare_LOG_  MISS_fare_pp \n",
       " miss   :   1   miss   :   1  \n",
       " no_miss:1308   no_miss:1308  \n",
       "                              \n",
       "                              \n",
       "                              \n",
       "                              \n",
       "                              "
      ]
     },
     "metadata": {},
     "output_type": "display_data"
    }
   ],
   "source": [
    "# Convert missings to own level (\"(Missing)\")\n",
    "df[nomi] = map(df[nomi], ~ fct_explicit_na(.))\n",
    "\n",
    "# Reorder \"numeric\" nominal variables\n",
    "ord = c(\"sibsp\", \"parch\") #variables with ordinal scale\n",
    "df[ord] =  map(df[ord], ~ fct_relevel(., levels(.)[order(as.numeric(levels(.)), na.last = FALSE)])) #remap levels\n",
    "summary(df[nomi])"
   ]
  },
  {
   "cell_type": "markdown",
   "metadata": {},
   "source": [
    "Feeding nominal features into non-tree-based machine learning algorithms requires a so-called **\"1-hot\" (or \"dummy\") encoding** for the features. This means you need to create a binary flag variable for each level of a nominal variable. For each data record only one of these flags has the value 1, all others are 0 (-> \"1-hot\").  \n",
    "Even **most implementations of tree-based algorithms (e.g. xgboost)** need pure metric features and therefore 1-hot encoded nominal variables or at least numeric variables which are differently \"encoded\". The latter is explained in more detail in one of the other notebooks, as for the explorative (and also model comparison and interpretation part) we keep to the 1-hot encoding. \n",
    "\n",
    "Apparently 1-hot encoding results in **one colum per each member of a nominal variable**. In real life situations with more data than in the titanic case you need to \"cut\" the variables with lots of members if you do not want to **run into memory space limitations**.  \n",
    "This is done in the next code snippet: We decide to **collapse the less frequent occuring levels** to a new artficial level \"\\_OTHER\\_\" and only the top 10 members per feature are kept as is. This threshold (*topn_toomany*) is somewhat arbitrary here and will be different for other data.  Be aware that for this purpose we create a new variable with a \"_OTHER_\" suffix and exchange it with the original variable in the metadata.\n",
    "\n",
    "Again: For a tree-based model there are other approaches (\"encodings\"). But as the algorithm selection is yet to come we have to accept a compromise supporting also non-tree based models. And keep in mind that for **any non-tree based algorithm we are stuck to the nominal scale and 1-hot encoding!** For the deep learning guys outside there who now protest: We do not encounter any numerical embedding approaches here. \n",
    "\n",
    "The 1-hot encoding is postponed to the application of the machine learning algorithm as there exist an automatic support for this transformation. For now we just conduct the collapsing to the most frequent levels."
   ]
  },
  {
   "cell_type": "code",
   "execution_count": 132,
   "metadata": {},
   "outputs": [
    {
     "data": {
      "text/html": [
       "<dl class=dl-horizontal>\n",
       "\t<dt>home.dest</dt>\n",
       "\t\t<dd>369</dd>\n",
       "\t<dt>boat</dt>\n",
       "\t\t<dd>28</dd>\n",
       "\t<dt>deck</dt>\n",
       "\t\t<dd>9</dd>\n",
       "\t<dt>parch</dt>\n",
       "\t\t<dd>8</dd>\n",
       "\t<dt>sibsp</dt>\n",
       "\t\t<dd>7</dd>\n",
       "\t<dt>embarked</dt>\n",
       "\t\t<dd>4</dd>\n",
       "\t<dt>pclass</dt>\n",
       "\t\t<dd>3</dd>\n",
       "\t<dt>sex</dt>\n",
       "\t\t<dd>2</dd>\n",
       "\t<dt>MISS_age</dt>\n",
       "\t\t<dd>2</dd>\n",
       "\t<dt>MISS_fare_LOG_</dt>\n",
       "\t\t<dd>2</dd>\n",
       "\t<dt>MISS_fare_pp</dt>\n",
       "\t\t<dd>2</dd>\n",
       "</dl>\n"
      ],
      "text/latex": [
       "\\begin{description*}\n",
       "\\item[home.dest] 369\n",
       "\\item[boat] 28\n",
       "\\item[deck] 9\n",
       "\\item[parch] 8\n",
       "\\item[sibsp] 7\n",
       "\\item[embarked] 4\n",
       "\\item[pclass] 3\n",
       "\\item[sex] 2\n",
       "\\item[MISS\\textbackslash{}\\_age] 2\n",
       "\\item[MISS\\textbackslash{}\\_fare\\textbackslash{}\\_LOG\\textbackslash{}\\_] 2\n",
       "\\item[MISS\\textbackslash{}\\_fare\\textbackslash{}\\_pp] 2\n",
       "\\end{description*}\n"
      ],
      "text/markdown": [
       "home.dest\n",
       ":   369boat\n",
       ":   28deck\n",
       ":   9parch\n",
       ":   8sibsp\n",
       ":   7embarked\n",
       ":   4pclass\n",
       ":   3sex\n",
       ":   2MISS_age\n",
       ":   2MISS_fare_LOG_\n",
       ":   2MISS_fare_pp\n",
       ":   2\n",
       "\n"
      ],
      "text/plain": [
       "     home.dest           boat           deck          parch          sibsp       embarked         pclass            sex       MISS_age \n",
       "           369             28              9              8              7              4              3              2              2 \n",
       "MISS_fare_LOG_   MISS_fare_pp \n",
       "             2              2 "
      ]
     },
     "metadata": {},
     "output_type": "display_data"
    },
    {
     "data": {
      "text/html": [
       "<ol class=list-inline>\n",
       "\t<li>'home.dest'</li>\n",
       "\t<li>'boat'</li>\n",
       "</ol>\n"
      ],
      "text/latex": [
       "\\begin{enumerate*}\n",
       "\\item 'home.dest'\n",
       "\\item 'boat'\n",
       "\\end{enumerate*}\n"
      ],
      "text/markdown": [
       "1. 'home.dest'\n",
       "2. 'boat'\n",
       "\n",
       "\n"
      ],
      "text/plain": [
       "[1] \"home.dest\" \"boat\"     "
      ]
     },
     "metadata": {},
     "output_type": "display_data"
    },
    {
     "data": {
      "text/plain": [
       "                        home.dest_OTHER_    boat_OTHER_ \n",
       " _OTHER_                        :594     10       : 29  \n",
       " (Missing)                      :564     11       : 25  \n",
       " New York, NY                   : 64     13       : 39  \n",
       " London                         : 14     14       : 33  \n",
       " Montreal, PQ                   : 10     15       : 37  \n",
       " Cornwall / Akron, OH           :  9     3        : 26  \n",
       " Paris, France                  :  9     4        : 31  \n",
       " Philadelphia, PA               :  8     5        : 27  \n",
       " Wiltshire, England Niagara Fall:  8     9        : 25  \n",
       " Winnipeg, MB                   :  8     C        : 38  \n",
       " Belfast                        :  7     (Missing):823  \n",
       " (Other)                        : 14     _OTHER_  :176  "
      ]
     },
     "metadata": {},
     "output_type": "display_data"
    }
   ],
   "source": [
    "# Create compact covariates for \"too many members\" columns \n",
    "topn_toomany = 10\n",
    "(levinfo = map_int(df[nomi], ~ length(levels(.))) %>% .[order(., decreasing = TRUE)]) #get number of levels and print in decending order\n",
    "(toomany = names(levinfo)[which(levinfo > topn_toomany)]) #which ones comprise too many levels\n",
    "toomany = setdiff(toomany, c(\"xxx\")) #set exception for important variables\n",
    "df[paste0(toomany,\"_OTHER_\")] = map(df[toomany], ~ fct_lump(., topn_toomany, other_level = \"_OTHER_\")) #collapse\n",
    "nomi = map_chr(nomi, ~ ifelse(. %in% toomany, paste0(.,\"_OTHER_\"), .)) #adapt metadata (and keep order)\n",
    "summary(df[paste0(toomany,\"_OTHER_\")], topn_toomany + 2) #check"
   ]
  },
  {
   "cell_type": "markdown",
   "metadata": {},
   "source": [
    "TODO: Move this to other notebook  \n",
    "\n",
    "A **tree-based algorithm** is in principle also capable of handling any nominal feature as one and only one pure metric variable which then comprises much less space than the 1-hot encoded variant. There are basically 3 variants of this \"encoding into 1 numeric feature\".  \n",
    "TODO: explain encodings  \n",
    "To make it more complicated: A tree-based algorithm might also profit from a 1-hot encoding as this makes a possible signal sharper (think of the signal is in the middle: with 1-hot encoding it can be extracted by 1 split, using consecutive numeric values for this variable needs to splits to extract the signal). Therefore additionally to the count encoding of a feature with lots of levels we 1-hot encode the top-n occurring levels (and the artificial \"\\_OTHER\\_\" level). This assures that we keep as much information as possible and help the algorithm to find the signal as well."
   ]
  },
  {
   "cell_type": "markdown",
   "metadata": {},
   "source": [
    "<br>\n",
    "## 3.2 Plot the finalized features\n",
    "You see we are faster in reaching the final state of our nominal features compared to the metric ones.  \n",
    "\n",
    "Before plotting we list the univariate variable importance (AUC in this case) in descending order for a quick check."
   ]
  },
  {
   "cell_type": "code",
   "execution_count": 133,
   "metadata": {},
   "outputs": [
    {
     "data": {
      "text/html": [
       "<dl class=dl-horizontal>\n",
       "\t<dt>sex</dt>\n",
       "\t\t<dd>0.76</dd>\n",
       "\t<dt>pclass</dt>\n",
       "\t\t<dd>0.67</dd>\n",
       "\t<dt>boat_OTHER_</dt>\n",
       "\t\t<dd>0.64</dd>\n",
       "\t<dt>deck</dt>\n",
       "\t\t<dd>0.63</dd>\n",
       "\t<dt>embarked</dt>\n",
       "\t\t<dd>0.58</dd>\n",
       "\t<dt>parch</dt>\n",
       "\t\t<dd>0.57</dd>\n",
       "\t<dt>MISS_age</dt>\n",
       "\t\t<dd>0.54</dd>\n",
       "\t<dt>home.dest_OTHER_</dt>\n",
       "\t\t<dd>0.54</dd>\n",
       "\t<dt>sibsp</dt>\n",
       "\t\t<dd>0.54</dd>\n",
       "\t<dt>MISS_fare_LOG_</dt>\n",
       "\t\t<dd>0.5</dd>\n",
       "\t<dt>MISS_fare_pp</dt>\n",
       "\t\t<dd>0.5</dd>\n",
       "</dl>\n"
      ],
      "text/latex": [
       "\\begin{description*}\n",
       "\\item[sex] 0.76\n",
       "\\item[pclass] 0.67\n",
       "\\item[boat\\textbackslash{}\\_OTHER\\textbackslash{}\\_] 0.64\n",
       "\\item[deck] 0.63\n",
       "\\item[embarked] 0.58\n",
       "\\item[parch] 0.57\n",
       "\\item[MISS\\textbackslash{}\\_age] 0.54\n",
       "\\item[home.dest\\textbackslash{}\\_OTHER\\textbackslash{}\\_] 0.54\n",
       "\\item[sibsp] 0.54\n",
       "\\item[MISS\\textbackslash{}\\_fare\\textbackslash{}\\_LOG\\textbackslash{}\\_] 0.5\n",
       "\\item[MISS\\textbackslash{}\\_fare\\textbackslash{}\\_pp] 0.5\n",
       "\\end{description*}\n"
      ],
      "text/markdown": [
       "sex\n",
       ":   0.76pclass\n",
       ":   0.67boat_OTHER_\n",
       ":   0.64deck\n",
       ":   0.63embarked\n",
       ":   0.58parch\n",
       ":   0.57MISS_age\n",
       ":   0.54home.dest_OTHER_\n",
       ":   0.54sibsp\n",
       ":   0.54MISS_fare_LOG_\n",
       ":   0.5MISS_fare_pp\n",
       ":   0.5\n",
       "\n"
      ],
      "text/plain": [
       "             sex           pclass      boat_OTHER_             deck         embarked            parch         MISS_age home.dest_OTHER_ \n",
       "            0.76             0.67             0.64             0.63             0.58             0.57             0.54             0.54 \n",
       "           sibsp   MISS_fare_LOG_     MISS_fare_pp \n",
       "            0.54             0.50             0.50 "
      ]
     },
     "metadata": {},
     "output_type": "display_data"
    }
   ],
   "source": [
    "# Univariate variable importance\n",
    "(varimp_nomi = filterVarImp(df[nomi], df$target, nonpara = TRUE) %>% rowMeans() %>% #rowMeans needed for multiclass target\n",
    "    .[order(., decreasing = TRUE)] %>% round(2))"
   ]
  },
  {
   "cell_type": "markdown",
   "metadata": {},
   "source": [
    "The following plot per nominal feature has some nice properties helping in understanding the data:\n",
    "+ Again, we plot the **univariate variable importance** in the header.\n",
    "+ The grey bar chart on the left shows the **distribution of the nominal variable** and is also reflected by the percentage values inside the brackets beside the level name. First of all this helps in identifying rare members which is important when judging the effect of the member onto the target.\n",
    "+ This effect itself is visualized by the colored bars. The width of the bars are proportional to their occurence (and therefore show the same as the grey bars).\n",
    "+ The vertical refernce line denotes the **base rate** of the target (38.2% survived). So you can directly see which member has an average target value above or below the overall average.\n",
    "+ Be aware that the x-axis scale is NOT the same for all plots.\n",
    "+ Features on an ordinal scale are shown in the correct order."
   ]
  },
  {
   "cell_type": "code",
   "execution_count": 134,
   "metadata": {},
   "outputs": [
    {
     "name": "stdout",
     "output_type": "stream",
     "text": [
      "[1] \"pclass\"\n",
      "[1] \"sex\"\n",
      "[1] \"sibsp\"\n",
      "[1] \"parch\"\n",
      "[1] \"deck\"\n",
      "[1] \"embarked\"\n",
      "[1] \"boat_OTHER_\"\n",
      "[1] \"home.dest_OTHER_\"\n",
      "[1] \"MISS_age\"\n",
      "[1] \"MISS_fare_LOG_\"\n",
      "[1] \"MISS_fare_pp\"\n"
     ]
    },
    {
     "data": {
      "text/plain": [
       "[[1]]\n",
       "NULL\n"
      ]
     },
     "metadata": {},
     "output_type": "display_data"
    },
    {
     "data": {
      "image/png": "[encoded data removed]"
     },
     "metadata": {},
     "output_type": "display_data"
    }
   ],
   "source": [
    "# Check\n",
    "plots = suppressMessages(get_plot_distr_nomi(df, nomi, color = twocol, varimpinfo = varimp_nomi, inner_barplot = TRUE,\n",
    "                                             min_width = 0, ylim = NULL))\n",
    "#options(jupyter.plot_mimetypes = \"image/svg+xml\")\n",
    "#options(jupyter.plot_mimetypes = \"image/png\")\n",
    "options(repr.plot.width = 14, repr.plot.height = 14) #adapt this for different resolution\n",
    "marrangeGrob(plots, ncol = 3, nrow = 4)"
   ]
  },
  {
   "cell_type": "markdown",
   "metadata": {},
   "source": [
    "Lots of interesting findings can be derived from the plots. We just list some of them:\n",
    "+ Passenger Class (*pclass*) and *sex* have a high impact on survival rate: Lucky Rose, sorry Jack ....\n",
    "+ We see some extreme effects for *sibsp* and *parch*, i.e. zero or at least low survival rate for the members with a high value. Actually these correspond to very rare members and therefore **do not represent a real signal!**\n",
    "+ *deck* and *home.dest_OTHER_* have **informative missings** as the probability of survival is highly reduced. Similarly to the missing age effect it is questionable whether this is not some form of data leakage (see explanations for age in chapter 2). Btw, the missing age effect can also be seen in the plot of the **missing indicator** of age (*MISS_age*).\n",
    "+ But the most extreme effect occurs for *boat_OTHER_*. It seems like a perfect predictor for survival. Actually if you check what this variable means, you notice that it denotes the lifeboat and is therefore clearly **information from the future**. A passenger first must have survived before the number of the lifeboat which catched him/her is known. We need to remove this variable form the predictor (feature) set. Again we need to emphasize here, that in case you see in these plots an effect which seems to be too good to be true, all your alarm rings should start. And always be aware that this issue can come along in more subtle ways than for this easy identifiable example."
   ]
  },
  {
   "cell_type": "code",
   "execution_count": 135,
   "metadata": {
    "collapsed": true
   },
   "outputs": [],
   "source": [
    "# Remove Self-predictors\n",
    "nomi = setdiff(nomi, \"boat_OTHER_\")"
   ]
  },
  {
   "cell_type": "markdown",
   "metadata": {},
   "source": [
    "<br>\n",
    "## 3.3 Correlation analysis\n",
    "We have reached the investigation of **dependencies between the nominal features**.  \n",
    "\n",
    "Basically we use a similar approach to the correlation analysis for the metric variables, with the absolute Spearman correlation exchanged by the ***(corrected) contingency coefficient***. This metric also varies between 0 and 1 with 0 denoting absolute independency and 1 absolute dependency between the features.\n",
    "\n",
    "And like for the metric features we also only remove the ones which show a really high \"correlation\", **BUT only if the number of levels between the \"correlated\" features do NOT highly differ**. In turn this means that we keep 2 features which are highly dependant (maybe also perfectly depdendant, i.e. with a contingency coefficient equals 1), like it would happen for typical \"product groups\" and \"product types\" for instance, as one of these variables is a grouping of the other and helps the algorithm to find the signal (if it is there). But if both features comprise nearly the same number of levels we can remove one of them without any loss as both are features are kind of equal.  \n",
    "\n",
    "For the titanic data we only see a high dependency for the missing indicator of fare\\_LOG\\_ and fare_pp as both represent the same information and remove one of them.  \n",
    "\n",
    "Be aware that we also only plot variables which have at least one \"correlation\" above the **cutoff**. In such a case the metric is printed in white. And variables with high dependencies are clustered together. Both helps to get the overview quicker in case of a high amount of nominal features. "
   ]
  },
  {
   "cell_type": "code",
   "execution_count": 136,
   "metadata": {},
   "outputs": [
    {
     "data": {},
     "metadata": {},
     "output_type": "display_data"
    },
    {
     "data": {
      "image/png": "[encoded data removed]"
     },
     "metadata": {},
     "output_type": "display_data"
    }
   ],
   "source": [
    "# Plot corrected contingency coefficient for nominal features\n",
    "plot = get_plot_corr(df, input_type = \"nomi\", vars = nomi, cutoff = 0.4) #plot all variables with at least one conitg. coeff. above 0.4\n",
    "options(repr.plot.width = 7, repr.plot.height = 7) #adapt this for different resolution\n",
    "plot\n",
    "\n"
   ]
  },
  {
   "cell_type": "code",
   "execution_count": 137,
   "metadata": {
    "collapsed": true
   },
   "outputs": [],
   "source": [
    "# Remove highly/perfectly (>=99%) correlated (the ones with less levels!) \n",
    "remove = c(\"MISS_fare_pp\") #put at xxx the variables to remove\n",
    "nomi = setdiff(nomi, remove) #put at xxx the variables to remove"
   ]
  },
  {
   "cell_type": "markdown",
   "metadata": {},
   "source": [
    "<br>\n",
    "## 3.4 Time or train/test-fold dependency for nominal features\n",
    "Final step: Check the dependency of the nominal features regarding the fold split. See the explanations for the metric features above, as we are doing the same. Again no findings here since we are not dealing with a real time-based split."
   ]
  },
  {
   "cell_type": "code",
   "execution_count": 138,
   "metadata": {},
   "outputs": [
    {
     "data": {
      "text/html": [
       "<dl class=dl-horizontal>\n",
       "\t<dt>home.dest_OTHER_</dt>\n",
       "\t\t<dd>0.53</dd>\n",
       "\t<dt>pclass</dt>\n",
       "\t\t<dd>0.52</dd>\n",
       "\t<dt>sex</dt>\n",
       "\t\t<dd>0.52</dd>\n",
       "\t<dt>parch</dt>\n",
       "\t\t<dd>0.51</dd>\n",
       "\t<dt>sibsp</dt>\n",
       "\t\t<dd>0.51</dd>\n",
       "\t<dt>MISS_age</dt>\n",
       "\t\t<dd>0.51</dd>\n",
       "\t<dt>deck</dt>\n",
       "\t\t<dd>0.51</dd>\n",
       "\t<dt>embarked</dt>\n",
       "\t\t<dd>0.5</dd>\n",
       "\t<dt>MISS_fare_LOG_</dt>\n",
       "\t\t<dd>0.5</dd>\n",
       "</dl>\n"
      ],
      "text/latex": [
       "\\begin{description*}\n",
       "\\item[home.dest\\textbackslash{}\\_OTHER\\textbackslash{}\\_] 0.53\n",
       "\\item[pclass] 0.52\n",
       "\\item[sex] 0.52\n",
       "\\item[parch] 0.51\n",
       "\\item[sibsp] 0.51\n",
       "\\item[MISS\\textbackslash{}\\_age] 0.51\n",
       "\\item[deck] 0.51\n",
       "\\item[embarked] 0.5\n",
       "\\item[MISS\\textbackslash{}\\_fare\\textbackslash{}\\_LOG\\textbackslash{}\\_] 0.5\n",
       "\\end{description*}\n"
      ],
      "text/markdown": [
       "home.dest_OTHER_\n",
       ":   0.53pclass\n",
       ":   0.52sex\n",
       ":   0.52parch\n",
       ":   0.51sibsp\n",
       ":   0.51MISS_age\n",
       ":   0.51deck\n",
       ":   0.51embarked\n",
       ":   0.5MISS_fare_LOG_\n",
       ":   0.5\n",
       "\n"
      ],
      "text/plain": [
       "home.dest_OTHER_           pclass              sex            parch            sibsp         MISS_age             deck         embarked \n",
       "            0.53             0.52             0.52             0.51             0.51             0.51             0.51             0.50 \n",
       "  MISS_fare_LOG_ \n",
       "            0.50 "
      ]
     },
     "metadata": {},
     "output_type": "display_data"
    }
   ],
   "source": [
    "# Univariate variable importance (again ONLY for non-missing observations!) for time/fold dependency\n",
    "(varimp_nomi_fold = filterVarImp(df[nomi], df$fold_test, nonpara = TRUE) %>% rowMeans() %>% \n",
    "   .[order(., decreasing = TRUE)] %>% round(2))\n",
    "\n",
    "# Plot: only variables with with highest importance above threshold\n",
    "nomi_toprint = names(varimp_nomi_fold)[varimp_nomi_fold >= 0.55]\n",
    "plots = get_plot_distr_nomi(df, nomi_toprint, color = c(\"blue\",\"red\"), target_name = \"fold_test\", inner_barplot = FALSE,\n",
    "                            varimpinfo = varimp_nomi_fold, ylim = c(0,1))\n"
   ]
  },
  {
   "cell_type": "markdown",
   "metadata": {},
   "source": [
    "<br>\n",
    "## 4. Save the final state\n",
    "We are finished with the exploration and adaption of our features.  \n",
    "\n",
    "Therefore we can save the current state for the forthcoming steps of model comparison and model interpretation. For this task we save the feature names in a character vector separately for the \"normal\" and the binned versions which we will use with different algorithms during the model comparison. Notice the removal of the missing indicators for the binned version; this information is comprised in the newly created \"(Missing)\" member. The purpose behind the multiple formulas will be resolved in the next notebook."
   ]
  },
  {
   "cell_type": "code",
   "execution_count": 139,
   "metadata": {},
   "outputs": [
    {
     "data": {
      "text/plain": [
       "      age            fare_LOG_        fare_pp      pclass        sex      sibsp       parch             deck             embarked  \n",
       " Min.   : 0.1667   Min.   :0.000   Min.   : 0.00   1st:323   female:466   0:891   0      :1002   (Missing):1014   Cherbourg  :270  \n",
       " 1st Qu.:21.0000   1st Qu.:2.186   1st Qu.: 7.55   2nd:277   male  :843   1:319   1      : 170   C        :  94   Queenstown :123  \n",
       " Median :28.0000   Median :2.738   Median : 8.05   3rd:709                2: 42   2      : 113   B        :  65   Southampton:914  \n",
       " Mean   :29.8720   Mean   :2.977   Mean   :14.45                          3: 20   3      :   8   D        :  46   (Missing)  :  2  \n",
       " 3rd Qu.:39.0000   3rd Qu.:3.474   3rd Qu.:15.03                          4: 22   4      :   6   E        :  41                    \n",
       " Max.   :65.0000   Max.   :5.574   Max.   :55.44                          5:  6   5      :   6   A        :  22                    \n",
       "                                                                          8:  9   (Other):   4   (Other)  :  27                    \n",
       "             home.dest_OTHER_    MISS_age    MISS_fare_LOG_\n",
       " _OTHER_             :594     miss   : 263   miss   :   1  \n",
       " (Missing)           :564     no_miss:1046   no_miss:1308  \n",
       " New York, NY        : 64                                  \n",
       " London              : 14                                  \n",
       " Montreal, PQ        : 10                                  \n",
       " Cornwall / Akron, OH:  9                                  \n",
       " (Other)             : 54                                  "
      ]
     },
     "metadata": {},
     "output_type": "display_data"
    },
    {
     "data": {
      "text/html": [],
      "text/latex": [],
      "text/markdown": [],
      "text/plain": [
       "character(0)"
      ]
     },
     "metadata": {},
     "output_type": "display_data"
    },
    {
     "data": {
      "text/plain": [
       "     age_BINNED_       fare_BINNED_    fare_pp_BINNED_ pclass        sex      sibsp       parch             deck             embarked  \n",
       " (Missing) :263   (7.85,8.05]:146   (8.05,10.5]:161    1st:323   female:466   0:891   0      :1002   (Missing):1014   Cherbourg  :270  \n",
       " (31,36]   :121   (7.57,7.85]:144   (7.23,7.75]:146    2nd:277   male  :843   1:319   1      : 170   C        :  94   Queenstown :123  \n",
       " (14,19]   :118   (27,41.6]  :134   (6.24,7.23]:143    3rd:709                2: 42   2      : 113   B        :  65   Southampton:914  \n",
       " (22,25]   :110   [0,7.57]   :131   (10.5,13]  :136                           3: 20   3      :   8   D        :  46   (Missing)  :  2  \n",
       " (19,22]   :108   (78.1,512] :131   [0,6.24]   :134                           4: 22   4      :   6   E        :  41                    \n",
       " [0.167,14]:107   (14.5,21.7]:130   (7.75,7.9] :131                           5:  6   5      :   6   A        :  22                    \n",
       " (Other)   :482   (Other)    :493   (Other)    :458                           8:  9   (Other):   4   (Other)  :  27                    \n",
       "             home.dest_OTHER_\n",
       " _OTHER_             :594    \n",
       " (Missing)           :564    \n",
       " New York, NY        : 64    \n",
       " London              : 14    \n",
       " Montreal, PQ        : 10    \n",
       " Cornwall / Akron, OH:  9    \n",
       " (Other)             : 54    "
      ]
     },
     "metadata": {},
     "output_type": "display_data"
    },
    {
     "data": {
      "text/html": [],
      "text/latex": [],
      "text/markdown": [],
      "text/plain": [
       "character(0)"
      ]
     },
     "metadata": {},
     "output_type": "display_data"
    }
   ],
   "source": [
    "# Define final features and formulas\n",
    "features = c(metr, nomi)\n",
    "formula = as.formula(paste(\"target\", \"~ -1 + \", paste(features, collapse = \" + \")))  \n",
    "formula_rightside = as.formula(paste(\"~ -1 + \", paste(features, collapse = \" + \"))) \n",
    "features_binned = c(metr_binned, setdiff(nomi, paste0(\"MISS_\",miss))) #do not need indicators if binned variables\n",
    "formula_binned = as.formula(paste(\"target\", \"~\", paste(features_binned, collapse = \" + \")))\n",
    "formula_binned_rightside = as.formula(paste(\"~\", paste(features_binned, collapse = \" + \")))\n",
    "\n",
    "# Some final checks\n",
    "options(width = 150)\n",
    "summary(df[features])\n",
    "setdiff(features, colnames(df))\n",
    "summary(df[features_binned])\n",
    "setdiff(features_binned, colnames(df))\n",
    "\n",
    "# Save image \n",
    "rm(df.orig, plots, plots1, plots2) #remove possibly big objects\n",
    "save.image(\"1_explore.rdata\") #save image"
   ]
  }
 ],
 "metadata": {
  "kernelspec": {
   "display_name": "R",
   "language": "R",
   "name": "ir"
  },
  "language_info": {
   "codemirror_mode": "r",
   "file_extension": ".r",
   "mimetype": "text/x-r-source",
   "name": "R",
   "pygments_lexer": "r",
   "version": "3.3.2"
  }
 },
 "nbformat": 4,
 "nbformat_minor": 2
}
