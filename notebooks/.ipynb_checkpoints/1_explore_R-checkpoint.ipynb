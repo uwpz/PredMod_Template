{
 "cells": [
  {
   "cell_type": "markdown",
   "metadata": {},
   "source": [
    "# Introduction\n",
    "This notebook gives an example how to do EDA (explorative data analysis).  \n",
    "It is the first one in a series of 3 notebooks. The other two load the results of this notebook and do model comparison and model interpretation respecively.  \n",
    "As example data source the well known titanic data set is chosen (TODO: link). It is therefore a classification problem (with binary target *survived/not survived*).  \n",
    "Even though you cannot compare the titanic case with a real life setting, the following steps pretty much reflect (on a small scale!) how we do data analysis in predictive modeling projects. Therefore is different from the many tutorials you find in the web using the same data."
   ]
  },
  {
   "cell_type": "markdown",
   "metadata": {},
   "source": [
    "# 0. Packages and settings\n",
    "\n",
    "We start by loading packages and do some basic settings (data and output locations, parameters, ...). Furthermore the *0_init.R* program defines many functions, mainly for plotting, which are frequently used in this notebook. The detailed implementation of these functions is not important for understanding the EDA approach presented here.\n"
   ]
  },
  {
   "cell_type": "code",
   "execution_count": 6,
   "metadata": {
    "collapsed": true
   },
   "outputs": [],
   "source": [
    "setwd(\"C:/My/PredMod_Template/\") \n",
    "source(\"./code/0_init.R\")"
   ]
  },
  {
   "cell_type": "markdown",
   "metadata": {},
   "source": [
    "# 1. ETL\n",
    "We need to do some ETL (extract, transform, load)"
   ]
  },
  {
   "cell_type": "code",
   "execution_count": 5,
   "metadata": {},
   "outputs": [
    {
     "name": "stderr",
     "output_type": "stream",
     "text": [
      "Parsed with column specification:\n",
      "cols(\n",
      "  pclass = col_character(),\n",
      "  survived = col_integer(),\n",
      "  name = col_character(),\n",
      "  sex = col_character(),\n",
      "  age = col_double(),\n",
      "  sibsp = col_integer(),\n",
      "  parch = col_integer(),\n",
      "  ticket = col_character(),\n",
      "  fare = col_double(),\n",
      "  cabin = col_character(),\n",
      "  embarked = col_character(),\n",
      "  boat = col_character(),\n",
      "  body = col_integer(),\n",
      "  home.dest = col_character()\n",
      ")\n"
     ]
    }
   ],
   "source": [
    "\n",
    "# Adapt some default parameter different for target types -> probably also different for a new use-case\n",
    "#color = switch(TYPE, \"CLASS\" = twocol, \"REGR\" = hexcol, \"MULTICLASS\" = threecol) #probably need to change MULTICLASS opt\n",
    "#cutoff = switch(TYPE, \"CLASS\" = 0.1, \"REGR\"  = 0.9, \"MULTICLASS\" = 0.9) #need to adapt\n",
    "#ylim = switch(TYPE, \"CLASS\" = NULL, \"REGR\"  = c(0,2.5e5), \"MULTICLASS\" = NULL) #need to adapt in regression case\n",
    "#min_width = switch(TYPE, \"CLASS\" = 0, \"REGR\"  = 0, \"MULTICLASS\" = 0.2) #need to adapt in multiclass case\n",
    "\n",
    "\n",
    "df.orig = read_csv(paste0(dataloc,\"titanic.csv\"), col_names = TRUE) #read_data\n",
    "\n"
   ]
  },
  {
   "cell_type": "markdown",
   "metadata": {
    "collapsed": true
   },
   "source": [
    "Let's do a quick check of the data"
   ]
  },
  {
   "cell_type": "code",
   "execution_count": 8,
   "metadata": {},
   "outputs": [
    {
     "data": {
      "text/plain": [
       " pclass       survived                                  name          sex     \n",
       " 1st:323   Min.   :0.000   Connolly, Miss. Kate           :   2   female:466  \n",
       " 2nd:277   1st Qu.:0.000   Kelly, Mr. James               :   2   male  :843  \n",
       " 3rd:709   Median :0.000   Abbing, Mr. Anthony            :   1               \n",
       "           Mean   :0.382   Abbott, Master. Eugene Joseph  :   1               \n",
       "           3rd Qu.:1.000   Abbott, Mr. Rossmore Edward    :   1               \n",
       "           Max.   :1.000   Abbott, Mrs. Stanton (Rosa Hunt:   1               \n",
       "                           (Other)                        :1301               \n",
       "      age              sibsp            parch            ticket    \n",
       " Min.   : 0.1667   Min.   :0.0000   Min.   :0.000   CA. 2343:  11  \n",
       " 1st Qu.:21.0000   1st Qu.:0.0000   1st Qu.:0.000   1601    :   8  \n",
       " Median :28.0000   Median :0.0000   Median :0.000   CA 2144 :   8  \n",
       " Mean   :29.8811   Mean   :0.4989   Mean   :0.385   3101295 :   7  \n",
       " 3rd Qu.:39.0000   3rd Qu.:1.0000   3rd Qu.:0.000   347077  :   7  \n",
       " Max.   :80.0000   Max.   :8.0000   Max.   :9.000   347082  :   7  \n",
       " NA's   :263                                        (Other) :1261  \n",
       "      fare                     cabin             embarked        boat    \n",
       " Min.   :  0.000   C23 C25 C27    :   6   Cherbourg  :270   13     : 39  \n",
       " 1st Qu.:  7.896   B57 B59 B63 B66:   5   Queenstown :123   C      : 38  \n",
       " Median : 14.454   G6             :   5   Southampton:914   15     : 37  \n",
       " Mean   : 33.295   B96 B98        :   4   NA's       :  2   14     : 33  \n",
       " 3rd Qu.: 31.275   C22 C26        :   4                     4      : 31  \n",
       " Max.   :512.329   (Other)        : 271                     (Other):308  \n",
       " NA's   :1         NA's           :1014                     NA's   :823  \n",
       "      body                      home.dest  \n",
       " Min.   :  1.0   New York, NY        : 64  \n",
       " 1st Qu.: 72.0   London              : 14  \n",
       " Median :155.0   Montreal, PQ        : 10  \n",
       " Mean   :160.8   Cornwall / Akron, OH:  9  \n",
       " 3rd Qu.:256.0   Paris, France       :  9  \n",
       " Max.   :328.0   (Other)             :639  \n",
       " NA's   :1188    NA's                :564  "
      ]
     },
     "metadata": {},
     "output_type": "display_data"
    }
   ],
   "source": [
    "df.tmp = df.orig %>% mutate_if(is.character, as.factor) #transform all character columns to factors\n",
    "summary(df.tmp)"
   ]
  },
  {
   "cell_type": "markdown",
   "metadata": {},
   "source": [
    "+ We see that 38.2% of all passengers survived.\n",
    "+ Some columns have missings\n",
    "+ *name* and *ticket* do seem to be useless for analysis as this information is to detailed\n",
    "+ *cabin* seems to be a list of all cabins associated with a ticket (valid for several persons)  \n",
    "\n",
    "In real data situations much more of these findings and data issues will pop up and need to be precisely reviewed usually together with business and data people!  \n",
    "**It is absolut important to fully understand the input data for a prediction problem!**"
   ]
  },
  {
   "cell_type": "markdown",
   "metadata": {},
   "source": [
    "Before transforming the data we create a copy of the original data. In case of bigger datasets which take much longer to be read this helps for faster implementation in case some errornous tansformation will be done. Actually for the titanic data this is not really needed."
   ]
  },
  {
   "cell_type": "code",
   "execution_count": null,
   "metadata": {
    "collapsed": true
   },
   "outputs": [],
   "source": [
    "df = df.orig #\"save\" original data"
   ]
  },
  {
   "cell_type": "code",
   "execution_count": null,
   "metadata": {
    "collapsed": true
   },
   "outputs": [],
   "source": [
    "\n",
    "# Define target and train/test-fold ----------------------------------------------------------------------------------\n",
    "\n",
    "# Target\n",
    "if (TYPE == \"CLASS\") { \n",
    "  df = mutate(df, target = factor(ifelse(survived == 0, \"N\", \"Y\"), levels = c(\"N\",\"Y\")),\n",
    "                  target_num = ifelse(target == \"N\", 0 ,1))\n",
    "  summary(df$target_num)\n",
    "}\n",
    "if (TYPE == \"REGR\") df$target = df$SalePrice\n",
    "if (TYPE == \"MULTICLASS\") {\n",
    "  df$target = as.factor(paste0(\"Cat_\", \n",
    "                  as.numeric(cut(df.orig$SalePrice, c(-Inf,quantile(df.orig$SalePrice, c(.333,.666)),Inf)))))\n",
    "}\n",
    "summary(df$target)\n",
    "\n",
    "# Train/Test fold: usually split by time\n",
    "df$fold = factor(\"train\", levels = c(\"train\", \"test\"))\n",
    "set.seed(123)\n",
    "df[sample(1:nrow(df), floor(0.3*nrow(df))),\"fold\"] = \"test\" #70/30 split\n",
    "summary(df$fold)"
   ]
  },
  {
   "cell_type": "markdown",
   "metadata": {},
   "source": [
    "## 1.1 Feature engineering\n",
    "Now one of the most important steps in predictive modeling is done: Feature engineering, i.e. deriving new information.  \n",
    "Even the most ambtious machine learning algorithms profit from feature engineering as it helps the algorithm to \"find the signal\". In case of infinite data an algorithm like deep neural nets is capable of finding all realations the features have with the target. But you will never have inifite data ... even in times of *big data*.  \n",
    "For the titanic data there is not much to do here, but in real life situations it is not unusual that you create as many new features as original input data columns."
   ]
  },
  {
   "cell_type": "code",
   "execution_count": null,
   "metadata": {
    "collapsed": true
   },
   "outputs": [],
   "source": []
  },
  {
   "cell_type": "markdown",
   "metadata": {},
   "source": [
    "# 2 Metric variables: Explore and adapt"
   ]
  },
  {
   "cell_type": "code",
   "execution_count": null,
   "metadata": {
    "collapsed": true
   },
   "outputs": [],
   "source": []
  },
  {
   "cell_type": "code",
   "execution_count": 8,
   "metadata": {},
   "outputs": [
    {
     "data": {
      "text/html": [
       "<dl class=dl-horizontal>\n",
       "\t<dt>A</dt>\n",
       "\t\t<dd>22</dd>\n",
       "\t<dt>B</dt>\n",
       "\t\t<dd>65</dd>\n",
       "\t<dt>C</dt>\n",
       "\t\t<dd>94</dd>\n",
       "\t<dt>D</dt>\n",
       "\t\t<dd>46</dd>\n",
       "\t<dt>E</dt>\n",
       "\t\t<dd>41</dd>\n",
       "\t<dt>F</dt>\n",
       "\t\t<dd>21</dd>\n",
       "\t<dt>G</dt>\n",
       "\t\t<dd>5</dd>\n",
       "\t<dt>T</dt>\n",
       "\t\t<dd>1</dd>\n",
       "\t<dt>NA's</dt>\n",
       "\t\t<dd>1014</dd>\n",
       "</dl>\n"
      ],
      "text/latex": [
       "\\begin{description*}\n",
       "\\item[A] 22\n",
       "\\item[B] 65\n",
       "\\item[C] 94\n",
       "\\item[D] 46\n",
       "\\item[E] 41\n",
       "\\item[F] 21\n",
       "\\item[G] 5\n",
       "\\item[T] 1\n",
       "\\item[NA's] 1014\n",
       "\\end{description*}\n"
      ],
      "text/markdown": [
       "A\n",
       ":   22B\n",
       ":   65C\n",
       ":   94D\n",
       ":   46E\n",
       ":   41F\n",
       ":   21G\n",
       ":   5T\n",
       ":   1NA's\n",
       ":   1014\n",
       "\n"
      ],
      "text/plain": [
       "   A    B    C    D    E    F    G    T NA's \n",
       "  22   65   94   46   41   21    5    1 1014 "
      ]
     },
     "metadata": {},
     "output_type": "display_data"
    },
    {
     "data": {
      "text/plain": [
       "   Min. 1st Qu.  Median    Mean 3rd Qu.    Max. \n",
       "  0.000   0.000   0.000   0.382   1.000   1.000 "
      ]
     },
     "metadata": {},
     "output_type": "display_data"
    },
    {
     "data": {
      "text/html": [
       "<dl class=dl-horizontal>\n",
       "\t<dt>N</dt>\n",
       "\t\t<dd>809</dd>\n",
       "\t<dt>Y</dt>\n",
       "\t\t<dd>500</dd>\n",
       "</dl>\n"
      ],
      "text/latex": [
       "\\begin{description*}\n",
       "\\item[N] 809\n",
       "\\item[Y] 500\n",
       "\\end{description*}\n"
      ],
      "text/markdown": [
       "N\n",
       ":   809Y\n",
       ":   500\n",
       "\n"
      ],
      "text/plain": [
       "  N   Y \n",
       "809 500 "
      ]
     },
     "metadata": {},
     "output_type": "display_data"
    },
    {
     "data": {
      "text/html": [
       "<dl class=dl-horizontal>\n",
       "\t<dt>train</dt>\n",
       "\t\t<dd>917</dd>\n",
       "\t<dt>test</dt>\n",
       "\t\t<dd>392</dd>\n",
       "</dl>\n"
      ],
      "text/latex": [
       "\\begin{description*}\n",
       "\\item[train] 917\n",
       "\\item[test] 392\n",
       "\\end{description*}\n"
      ],
      "text/markdown": [
       "train\n",
       ":   917test\n",
       ":   392\n",
       "\n"
      ],
      "text/plain": [
       "train  test \n",
       "  917   392 "
      ]
     },
     "metadata": {},
     "output_type": "display_data"
    },
    {
     "data": {
      "text/plain": [
       "      age               fare        \n",
       " Min.   : 0.1667   Min.   :  0.000  \n",
       " 1st Qu.:21.0000   1st Qu.:  7.896  \n",
       " Median :28.0000   Median : 14.454  \n",
       " Mean   :29.8811   Mean   : 33.295  \n",
       " 3rd Qu.:39.0000   3rd Qu.: 31.275  \n",
       " Max.   :80.0000   Max.   :512.329  \n",
       " NA's   :263       NA's   :1        "
      ]
     },
     "metadata": {},
     "output_type": "display_data"
    },
    {
     "data": {
      "text/plain": [
       "     age_BINNED_       fare_BINNED_\n",
       " [0.167,14]:107   [0,7.57]   :131  \n",
       " (14,19]   :118   (7.57,7.85]:144  \n",
       " (19,22]   :108   (7.85,8.05]:146  \n",
       " (22,25]   :110   (8.05,10.5]:108  \n",
       " (25,28]   : 93   (10.5,14.5]:128  \n",
       " (28,31]   : 98   (14.5,21.7]:130  \n",
       " (31,36]   :121   (21.7,27]  :128  \n",
       " (36,42]   : 96   (27,41.6]  :134  \n",
       " (42,50]   :100   (41.6,78.1]:128  \n",
       " (50,80]   : 95   (78.1,512] :131  \n",
       " (Missing) :263   (Missing)  :  1  "
      ]
     },
     "metadata": {},
     "output_type": "display_data"
    },
    {
     "data": {
      "text/html": [
       "<dl class=dl-horizontal>\n",
       "\t<dt>age</dt>\n",
       "\t\t<dd>0.201</dd>\n",
       "\t<dt>fare</dt>\n",
       "\t\t<dd>0.001</dd>\n",
       "</dl>\n"
      ],
      "text/latex": [
       "\\begin{description*}\n",
       "\\item[age] 0.201\n",
       "\\item[fare] 0.001\n",
       "\\end{description*}\n"
      ],
      "text/markdown": [
       "age\n",
       ":   0.201fare\n",
       ":   0.001\n",
       "\n"
      ],
      "text/plain": [
       "  age  fare \n",
       "0.201 0.001 "
      ]
     },
     "metadata": {},
     "output_type": "display_data"
    },
    {
     "data": {
      "text/html": [],
      "text/latex": [],
      "text/markdown": [],
      "text/plain": [
       "character(0)"
      ]
     },
     "metadata": {},
     "output_type": "display_data"
    },
    {
     "data": {
      "text/plain": [
       "      age               fare        \n",
       " Min.   : 0.1667   Min.   :  0.000  \n",
       " 1st Qu.:21.0000   1st Qu.:  7.896  \n",
       " Median :28.0000   Median : 14.454  \n",
       " Mean   :29.8811   Mean   : 33.295  \n",
       " 3rd Qu.:39.0000   3rd Qu.: 31.275  \n",
       " Max.   :80.0000   Max.   :512.329  \n",
       " NA's   :263       NA's   :1        "
      ]
     },
     "metadata": {},
     "output_type": "display_data"
    }
   ],
   "source": [
    "df$deck = as.factor(str_sub(df$cabin, 1, 1))#deck as first character of cabin\n",
    "df$familysize = df$sibsp + df$parch + 1 #add number of siblings and spouses to number of parents and children\n",
    "# TODO fare per person\n",
    "summary(df[c(\"deck\",\"familysize\")]) \n",
    "\n",
    "\n",
    "\n",
    "\n",
    "\n",
    "\n",
    "\n",
    "\n",
    "\n",
    "#######################################################################################################################-\n",
    "#|||| Metric variables: Explore and adapt ||||----\n",
    "#######################################################################################################################-\n",
    "\n",
    "# Define metric covariates -------------------------------------------------------------------------------------\n",
    "\n",
    "if (TYPE == \"CLASS\") metr = c(\"age\",\"fare\")\n",
    "if (TYPE %in% c(\"REGR\",\"MULTICLASS\")) {\n",
    "  metr = c(\"Lot_Frontage\",\"Lot_Area\",\"Year_Built\",\"Year_RemodAdd\",\"Mas_Vnr_Area\",\"BsmtFin_SF_1\",\"BsmtFin_SF_2\",\n",
    "         \"Bsmt_Unf_SF\",\"Total_Bsmt_SF\",\"first_Flr_SF\",\"second_Flr_SF\",\"Low_Qual_Fin_SF\",\"Gr_Liv_Area\",\n",
    "         \"Garage_Yr_Blt\",\"Garage_Area\",\"Wood_Deck_SF\",\"Open_Porch_SF\",\"Enclosed_Porch\",\"threeSsn_Porch\",\"Screen_Porch\",\n",
    "         \"Pool_Area\",\"Misc_Val\") \n",
    "  df[metr] = map(df[metr], ~ na_if(., 0)) #zeros are always missing here\n",
    "}\n",
    "summary(df[metr]) \n",
    "\n",
    "\n",
    "\n",
    "\n",
    "# Create nominal variables for all metric variables (for linear models)  -------------------------------\n",
    "\n",
    "metr_binned = paste0(metr,\"_BINNED_\")\n",
    "df[metr_binned] = map(df[metr], ~ {\n",
    "  # Hint: Adapt sequence increment in case you have lots of data \n",
    "  cut(., unique(quantile(., seq(0, 1, 0.1), na.rm = TRUE)), include.lowest = TRUE)  \n",
    "})\n",
    "\n",
    "# Convert missings to own level (\"(Missing)\")\n",
    "df[metr_binned] = map(df[metr_binned], ~ fct_explicit_na(., na_level = \"(Missing)\"))\n",
    "summary(df[metr_binned],11)\n",
    "\n",
    "# Remove binned variables with just 1 bin\n",
    "#(onebin = metr_binned[map_lgl(metr_binned, ~ length(levels(df[[.]])) == 1)])\n",
    "#metr_binned = setdiff(metr_binned, onebin)\n",
    "\n",
    "\n",
    "\n",
    "\n",
    "# Missings + Outliers + Skewness -------------------------------------------------------------------------------------\n",
    "\n",
    "# Remove covariates with too many missings from metr \n",
    "misspct = map_dbl(df[metr], ~ round(sum(is.na(.)/nrow(df)), 3)) #misssing percentage\n",
    "misspct[order(misspct, decreasing = TRUE)] #view in descending order\n",
    "(remove = names(misspct[misspct > 0.99])) #vars to remove\n",
    "metr = setdiff(metr, remove) #adapt metadata\n",
    "metr_binned = setdiff(metr_binned, paste0(remove,\"_BINNED_\")) #keep \"binned\" version in sync\n",
    "\n",
    "# Check for outliers and skewness\n",
    "summary(df[metr]) \n",
    "options(warn = -1)\n"
   ]
  },
  {
   "cell_type": "code",
   "execution_count": 9,
   "metadata": {},
   "outputs": [
    {
     "name": "stdout",
     "output_type": "stream",
     "text": [
      "[1] \"age\"\n",
      "[1] \"fare\"\n"
     ]
    }
   ],
   "source": [
    "plots = suppressMessages(get_plot_distr_metr(df, metr, color = color, missinfo = misspct, ylim = ylim))"
   ]
  },
  {
   "cell_type": "code",
   "execution_count": 10,
   "metadata": {},
   "outputs": [
    {
     "data": {
      "text/plain": [
       "[[1]]\n",
       "NULL\n"
      ]
     },
     "metadata": {},
     "output_type": "display_data"
    },
    {
     "data": {
      "image/png": "[encoded data removed]",
      "text/plain": [
       "plot without title"
      ]
     },
     "metadata": {},
     "output_type": "display_data"
    }
   ],
   "source": [
    "marrangeGrob(suppressMessages(plots), ncol = 4, nrow = 1)"
   ]
  },
  {
   "cell_type": "code",
   "execution_count": 8,
   "metadata": {},
   "outputs": [
    {
     "data": {
      "text/html": [
       "<dl class=dl-horizontal>\n",
       "\t<dt>fare_LOG_</dt>\n",
       "\t\t<dd>0.67</dd>\n",
       "\t<dt>age</dt>\n",
       "\t\t<dd>0.52</dd>\n",
       "</dl>\n"
      ],
      "text/latex": [
       "\\begin{description*}\n",
       "\\item[fare\\textbackslash{}\\_LOG\\textbackslash{}\\_] 0.67\n",
       "\\item[age] 0.52\n",
       "\\end{description*}\n"
      ],
      "text/markdown": [
       "fare_LOG_\n",
       ":   0.67age\n",
       ":   0.52\n",
       "\n"
      ],
      "text/plain": [
       "fare_LOG_       age \n",
       "     0.67      0.52 "
      ]
     },
     "metadata": {},
     "output_type": "display_data"
    },
    {
     "name": "stdout",
     "output_type": "stream",
     "text": [
      "[1] \"age\"\n",
      "[1] \"fare_LOG_\"\n",
      "[1] \"age_BINNED_\"\n",
      "[1] \"fare_BINNED_\"\n"
     ]
    }
   ],
   "source": [
    "\n",
    "# Winsorize\n",
    "df[metr] = map(df[metr], ~ winsorize(., 0.01, 0.99)) #hint: one might want to plot again before deciding for log-trafo\n",
    "\n",
    "# Log-Transform\n",
    "if (TYPE == \"CLASS\") tolog = c(\"fare\")\n",
    "if (TYPE %in% c(\"REGR\",\"MULTICLASS\")) tolog = c(\"Lot_Area\",\"Open_Porch_SF\",\"Misc_Val\")\n",
    "df[paste0(tolog,\"_LOG_\")] = map(df[tolog], ~ {if(min(., na.rm=TRUE) == 0) log(.+1) else log(.)})\n",
    "metr = map_chr(metr, ~ ifelse(. %in% tolog, paste0(.,\"_LOG_\"), .)) #adapt metadata (keep order)\n",
    "names(misspct) = map_chr(names(misspct), ~ ifelse(. %in% tolog, paste0(.,\"_LOG_\"), .)) #keep misspct in sync\n",
    "\n",
    "\n",
    "\n",
    "\n",
    "# Final variable information --------------------------------------------------------------------------------------------\n",
    "\n",
    "# Univariate variable importance: with random imputation!\n",
    "(varimp_metr = (filterVarImp(map_df(df[metr], ~ impute(.)), df$target, nonpara = TRUE) %>% rowMeans() %>% \n",
    "                  .[order(., decreasing = TRUE)] %>% round(2)))\n",
    "# Plot \n",
    "options(warn = -1)\n",
    "plots1 = suppressMessages(get_plot_distr_metr(df, metr, color = color, \n",
    "                                             missinfo = misspct, varimpinfo = varimp_metr, ylim = ylim))\n",
    "plots2 = suppressMessages(get_plot_distr_nomi(df, metr_binned, color = color, varimpinfo = NULL, inner_barplot = FALSE,\n",
    "                                              min_width = 0.2, ylim = ylim))\n",
    "plots = list() ; for (i in 1:length(plots1)) {plots = c(plots, plots1[i], plots2[i])} #zip plots\n",
    "\n"
   ]
  },
  {
   "cell_type": "code",
   "execution_count": 10,
   "metadata": {},
   "outputs": [
    {
     "data": {
      "text/plain": [
       "[[1]]\n",
       "NULL\n"
      ]
     },
     "metadata": {},
     "output_type": "display_data"
    },
    {
     "data": {
      "image/png": "[encoded data removed]",
      "text/plain": [
       "plot without title"
      ]
     },
     "metadata": {},
     "output_type": "display_data"
    }
   ],
   "source": [
    "options(repr.plot.width = 24, repr.plot.height = 8)\n",
    "marrangeGrob(suppressMessages(plots), ncol = 4, nrow = 1)"
   ]
  },
  {
   "cell_type": "code",
   "execution_count": 42,
   "metadata": {},
   "outputs": [
    {
     "name": "stderr",
     "output_type": "stream",
     "text": [
      "We recommend that you use the dev version of ggplot2 with `ggplotly()`\n",
      "Install it with: `devtools::install_github('hadley/ggplot2')`\n",
      "IOPub data rate exceeded.\n",
      "The notebook server will temporarily stop sending output\n",
      "to the client in order to avoid crashing it.\n",
      "To change this limit, set the config variable\n",
      "`--NotebookApp.iopub_data_rate_limit`.\n"
     ]
    }
   ],
   "source": [
    "library(plotly)\n",
    "p = ggplotly(plots[[1]])\n",
    "embed_notebook(p)"
   ]
  },
  {
   "cell_type": "code",
   "execution_count": 46,
   "metadata": {},
   "outputs": [
    {
     "name": "stderr",
     "output_type": "stream",
     "text": [
      "No trace type specified:\n",
      "  Based on info supplied, a 'scatter' trace seems appropriate.\n",
      "  Read more about this trace type -> https://plot.ly/r/reference/#scatter\n",
      "IOPub data rate exceeded.\n",
      "The notebook server will temporarily stop sending output\n",
      "to the client in order to avoid crashing it.\n",
      "To change this limit, set the config variable\n",
      "`--NotebookApp.iopub_data_rate_limit`.\n"
     ]
    }
   ],
   "source": [
    "# Scatter Plot\n",
    "library(plotly)\n",
    "\n",
    "set.seed(123)\n",
    "\n",
    "x <- rnorm(1000)\n",
    "y <- rchisq(1000, df = 1, ncp = 0)\n",
    "group <- sample(LETTERS[1:5], size = 1000, replace = T)\n",
    "size <- sample(1:5, size = 1000, replace = T)\n",
    "\n",
    "ds <- data.frame(x, y, group, size)\n",
    "\n",
    "p <- plot_ly(ds, x = x, y = y, mode = \"markers\", split = group, size = size) %>%\n",
    "  layout(title = \"Scatter Plot\")\n",
    "embed_notebook(p)"
   ]
  },
  {
   "cell_type": "code",
   "execution_count": null,
   "metadata": {
    "collapsed": true
   },
   "outputs": [],
   "source": []
  },
  {
   "cell_type": "code",
   "execution_count": null,
   "metadata": {
    "collapsed": true
   },
   "outputs": [],
   "source": []
  }
 ],
 "metadata": {
  "kernelspec": {
   "display_name": "R",
   "language": "R",
   "name": "ir"
  },
  "language_info": {
   "codemirror_mode": "r",
   "file_extension": ".r",
   "mimetype": "text/x-r-source",
   "name": "R",
   "pygments_lexer": "r",
   "version": "3.3.2"
  }
 },
 "nbformat": 4,
 "nbformat_minor": 2
}
